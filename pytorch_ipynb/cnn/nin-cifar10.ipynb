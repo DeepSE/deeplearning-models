{
  "nbformat": 4,
  "nbformat_minor": 0,
  "metadata": {
    "colab": {
      "name": "convnet-vgg16.ipynb",
      "provenance": [],
      "collapsed_sections": []
    },
    "kernelspec": {
      "display_name": "Python 3",
      "language": "python",
      "name": "python3"
    },
    "language_info": {
      "codemirror_mode": {
        "name": "ipython",
        "version": 3
      },
      "file_extension": ".py",
      "mimetype": "text/x-python",
      "name": "python",
      "nbconvert_exporter": "python",
      "pygments_lexer": "ipython3",
      "version": "3.7.3"
    },
    "toc": {
      "nav_menu": {},
      "number_sections": true,
      "sideBar": true,
      "skip_h1_title": false,
      "title_cell": "Table of Contents",
      "title_sidebar": "Contents",
      "toc_cell": true,
      "toc_position": {
        "height": "calc(100% - 180px)",
        "left": "10px",
        "top": "150px",
        "width": "371px"
      },
      "toc_section_display": true,
      "toc_window_display": true
    },
    "widgets": {
      "application/vnd.jupyter.widget-state+json": {
        "71930bdabb424b3886ac4767040cafe3": {
          "model_module": "@jupyter-widgets/controls",
          "model_name": "HBoxModel",
          "state": {
            "_view_name": "HBoxView",
            "_dom_classes": [],
            "_model_name": "HBoxModel",
            "_view_module": "@jupyter-widgets/controls",
            "_model_module_version": "1.5.0",
            "_view_count": null,
            "_view_module_version": "1.5.0",
            "box_style": "",
            "layout": "IPY_MODEL_e495e476572144b58b5e367ff98cf524",
            "_model_module": "@jupyter-widgets/controls",
            "children": [
              "IPY_MODEL_712e86ec0d4e4b66b5095e50f55f52c3",
              "IPY_MODEL_7a7bf200486b40b2968545d038a46bdf"
            ]
          }
        },
        "e495e476572144b58b5e367ff98cf524": {
          "model_module": "@jupyter-widgets/base",
          "model_name": "LayoutModel",
          "state": {
            "_view_name": "LayoutView",
            "grid_template_rows": null,
            "right": null,
            "justify_content": null,
            "_view_module": "@jupyter-widgets/base",
            "overflow": null,
            "_model_module_version": "1.2.0",
            "_view_count": null,
            "flex_flow": null,
            "width": null,
            "min_width": null,
            "border": null,
            "align_items": null,
            "bottom": null,
            "_model_module": "@jupyter-widgets/base",
            "top": null,
            "grid_column": null,
            "overflow_y": null,
            "overflow_x": null,
            "grid_auto_flow": null,
            "grid_area": null,
            "grid_template_columns": null,
            "flex": null,
            "_model_name": "LayoutModel",
            "justify_items": null,
            "grid_row": null,
            "max_height": null,
            "align_content": null,
            "visibility": null,
            "align_self": null,
            "height": null,
            "min_height": null,
            "padding": null,
            "grid_auto_rows": null,
            "grid_gap": null,
            "max_width": null,
            "order": null,
            "_view_module_version": "1.2.0",
            "grid_template_areas": null,
            "object_position": null,
            "object_fit": null,
            "grid_auto_columns": null,
            "margin": null,
            "display": null,
            "left": null
          }
        },
        "712e86ec0d4e4b66b5095e50f55f52c3": {
          "model_module": "@jupyter-widgets/controls",
          "model_name": "FloatProgressModel",
          "state": {
            "_view_name": "ProgressView",
            "style": "IPY_MODEL_52016b1bb3a04ffd956a21e1359f276b",
            "_dom_classes": [],
            "description": "",
            "_model_name": "FloatProgressModel",
            "bar_style": "success",
            "max": 1,
            "_view_module": "@jupyter-widgets/controls",
            "_model_module_version": "1.5.0",
            "value": 1,
            "_view_count": null,
            "_view_module_version": "1.5.0",
            "orientation": "horizontal",
            "min": 0,
            "description_tooltip": null,
            "_model_module": "@jupyter-widgets/controls",
            "layout": "IPY_MODEL_2eed5884cc0c4630990e13bdaa40d0ea"
          }
        },
        "7a7bf200486b40b2968545d038a46bdf": {
          "model_module": "@jupyter-widgets/controls",
          "model_name": "HTMLModel",
          "state": {
            "_view_name": "HTMLView",
            "style": "IPY_MODEL_e3a619d1fefb414e83f53033dd8c67d0",
            "_dom_classes": [],
            "description": "",
            "_model_name": "HTMLModel",
            "placeholder": "​",
            "_view_module": "@jupyter-widgets/controls",
            "_model_module_version": "1.5.0",
            "value": " 170500096/? [00:07&lt;00:00, 23759504.86it/s]",
            "_view_count": null,
            "_view_module_version": "1.5.0",
            "description_tooltip": null,
            "_model_module": "@jupyter-widgets/controls",
            "layout": "IPY_MODEL_5c46eed8d0334333a10eaa70096620e6"
          }
        },
        "52016b1bb3a04ffd956a21e1359f276b": {
          "model_module": "@jupyter-widgets/controls",
          "model_name": "ProgressStyleModel",
          "state": {
            "_view_name": "StyleView",
            "_model_name": "ProgressStyleModel",
            "description_width": "initial",
            "_view_module": "@jupyter-widgets/base",
            "_model_module_version": "1.5.0",
            "_view_count": null,
            "_view_module_version": "1.2.0",
            "bar_color": null,
            "_model_module": "@jupyter-widgets/controls"
          }
        },
        "2eed5884cc0c4630990e13bdaa40d0ea": {
          "model_module": "@jupyter-widgets/base",
          "model_name": "LayoutModel",
          "state": {
            "_view_name": "LayoutView",
            "grid_template_rows": null,
            "right": null,
            "justify_content": null,
            "_view_module": "@jupyter-widgets/base",
            "overflow": null,
            "_model_module_version": "1.2.0",
            "_view_count": null,
            "flex_flow": null,
            "width": null,
            "min_width": null,
            "border": null,
            "align_items": null,
            "bottom": null,
            "_model_module": "@jupyter-widgets/base",
            "top": null,
            "grid_column": null,
            "overflow_y": null,
            "overflow_x": null,
            "grid_auto_flow": null,
            "grid_area": null,
            "grid_template_columns": null,
            "flex": null,
            "_model_name": "LayoutModel",
            "justify_items": null,
            "grid_row": null,
            "max_height": null,
            "align_content": null,
            "visibility": null,
            "align_self": null,
            "height": null,
            "min_height": null,
            "padding": null,
            "grid_auto_rows": null,
            "grid_gap": null,
            "max_width": null,
            "order": null,
            "_view_module_version": "1.2.0",
            "grid_template_areas": null,
            "object_position": null,
            "object_fit": null,
            "grid_auto_columns": null,
            "margin": null,
            "display": null,
            "left": null
          }
        },
        "e3a619d1fefb414e83f53033dd8c67d0": {
          "model_module": "@jupyter-widgets/controls",
          "model_name": "DescriptionStyleModel",
          "state": {
            "_view_name": "StyleView",
            "_model_name": "DescriptionStyleModel",
            "description_width": "",
            "_view_module": "@jupyter-widgets/base",
            "_model_module_version": "1.5.0",
            "_view_count": null,
            "_view_module_version": "1.2.0",
            "_model_module": "@jupyter-widgets/controls"
          }
        },
        "5c46eed8d0334333a10eaa70096620e6": {
          "model_module": "@jupyter-widgets/base",
          "model_name": "LayoutModel",
          "state": {
            "_view_name": "LayoutView",
            "grid_template_rows": null,
            "right": null,
            "justify_content": null,
            "_view_module": "@jupyter-widgets/base",
            "overflow": null,
            "_model_module_version": "1.2.0",
            "_view_count": null,
            "flex_flow": null,
            "width": null,
            "min_width": null,
            "border": null,
            "align_items": null,
            "bottom": null,
            "_model_module": "@jupyter-widgets/base",
            "top": null,
            "grid_column": null,
            "overflow_y": null,
            "overflow_x": null,
            "grid_auto_flow": null,
            "grid_area": null,
            "grid_template_columns": null,
            "flex": null,
            "_model_name": "LayoutModel",
            "justify_items": null,
            "grid_row": null,
            "max_height": null,
            "align_content": null,
            "visibility": null,
            "align_self": null,
            "height": null,
            "min_height": null,
            "padding": null,
            "grid_auto_rows": null,
            "grid_gap": null,
            "max_width": null,
            "order": null,
            "_view_module_version": "1.2.0",
            "grid_template_areas": null,
            "object_position": null,
            "object_fit": null,
            "grid_auto_columns": null,
            "margin": null,
            "display": null,
            "left": null
          }
        }
      }
    }
  },
  "cells": [
    {
      "cell_type": "markdown",
      "metadata": {
        "colab_type": "text",
        "id": "UEBilEjLj5wY"
      },
      "source": [
        "Deep Learning Models -- A collection of various deep learning architectures, models, and tips for TensorFlow and PyTorch in Jupyter Notebooks.\n",
        "- Author: Sebastian Raschka\n",
        "- GitHub Repository: https://github.com/rasbt/deeplearning-models"
      ]
    },
    {
      "cell_type": "code",
      "metadata": {
        "id": "DwN2cVT9NJG-",
        "colab_type": "code",
        "colab": {}
      },
      "source": [
        "!pip install -q IPython\n",
        "!pip install -q ipykernel\n",
        "!pip install -q watermark\n",
        "!pip install -q matplotlib\n",
        "!pip install -q sklearn\n",
        "!pip install -q pandas\n",
        "!pip install -q pydot\n",
        "!pip install -q hiddenlayer\n",
        "!pip install -q graphviz"
      ],
      "execution_count": 1,
      "outputs": []
    },
    {
      "cell_type": "code",
      "metadata": {
        "colab_type": "code",
        "id": "GOzuY8Yvj5wb",
        "colab": {
          "base_uri": "https://localhost:8080/",
          "height": 121
        },
        "outputId": "cd2b4ad7-ad29-4918-9d06-0296b7b9d2b5"
      },
      "source": [
        "%load_ext watermark\n",
        "%watermark -a 'Sebastian Raschka' -v -p torch"
      ],
      "execution_count": 2,
      "outputs": [
        {
          "output_type": "stream",
          "text": [
            "Sebastian Raschka \n",
            "\n",
            "CPython 3.6.9\n",
            "IPython 5.5.0\n",
            "\n",
            "torch 1.5.1+cu101\n"
          ],
          "name": "stdout"
        }
      ]
    },
    {
      "cell_type": "markdown",
      "metadata": {
        "colab_type": "text",
        "id": "rH4XmErYj5wm"
      },
      "source": [
        "# Network in Network CIFAR-10 Classifier"
      ]
    },
    {
      "cell_type": "markdown",
      "metadata": {
        "id": "AsJv3tOdNEyJ",
        "colab_type": "text"
      },
      "source": [
        "based on \n",
        "\n",
        "- Lin, Min, Qiang Chen, and Shuicheng Yan. \"Network in network.\" arXiv preprint arXiv:1312.4400 (2013)."
      ]
    },
    {
      "cell_type": "markdown",
      "metadata": {
        "colab_type": "text",
        "id": "MkoGLH_Tj5wn"
      },
      "source": [
        "## Imports"
      ]
    },
    {
      "cell_type": "code",
      "metadata": {
        "colab_type": "code",
        "id": "ORj09gnrj5wp",
        "colab": {}
      },
      "source": [
        "import os\n",
        "import time\n",
        "\n",
        "import numpy as np\n",
        "import pandas as pd\n",
        "\n",
        "import torch\n",
        "import torch.nn as nn\n",
        "import torch.nn.functional as F\n",
        "from torch.utils.data import DataLoader\n",
        "from torch.utils.data import Subset\n",
        "\n",
        "from torchvision import datasets\n",
        "from torchvision import transforms\n",
        "\n",
        "import matplotlib.pyplot as plt\n",
        "from PIL import Image\n",
        "\n",
        "\n",
        "if torch.cuda.is_available():\n",
        "    torch.backends.cudnn.deterministic = True"
      ],
      "execution_count": 3,
      "outputs": []
    },
    {
      "cell_type": "code",
      "metadata": {
        "id": "67AFMavUNEyM",
        "colab_type": "code",
        "colab": {
          "base_uri": "https://localhost:8080/",
          "height": 35
        },
        "outputId": "70dd1938-4773-4d48-8625-bfcdd01d2100"
      },
      "source": [
        "torch.tensor([1]).device"
      ],
      "execution_count": 4,
      "outputs": [
        {
          "output_type": "execute_result",
          "data": {
            "text/plain": [
              "device(type='cpu')"
            ]
          },
          "metadata": {
            "tags": []
          },
          "execution_count": 4
        }
      ]
    },
    {
      "cell_type": "markdown",
      "metadata": {
        "colab_type": "text",
        "id": "I6hghKPxj5w0"
      },
      "source": [
        "## Model Settings"
      ]
    },
    {
      "cell_type": "code",
      "metadata": {
        "colab_type": "code",
        "id": "NnT0sZIwj5wu",
        "colab": {}
      },
      "source": [
        "##########################\n",
        "### SETTINGS\n",
        "##########################\n",
        "\n",
        "# Hyperparameters\n",
        "RANDOM_SEED = 1\n",
        "LEARNING_RATE = 0.0005\n",
        "BATCH_SIZE = 256\n",
        "NUM_EPOCHS = 100\n",
        "\n",
        "# Architecture\n",
        "NUM_CLASSES = 10\n",
        "\n",
        "# Other\n",
        "DEVICE = torch.device(\"cuda\" if torch.cuda.is_available() else \"cpu\")\n",
        "GRAYSCALE = False"
      ],
      "execution_count": 5,
      "outputs": []
    },
    {
      "cell_type": "code",
      "metadata": {
        "id": "Qmh49l-aNEyS",
        "colab_type": "code",
        "colab": {
          "base_uri": "https://localhost:8080/",
          "height": 187,
          "referenced_widgets": [
            "71930bdabb424b3886ac4767040cafe3",
            "e495e476572144b58b5e367ff98cf524",
            "712e86ec0d4e4b66b5095e50f55f52c3",
            "7a7bf200486b40b2968545d038a46bdf",
            "52016b1bb3a04ffd956a21e1359f276b",
            "2eed5884cc0c4630990e13bdaa40d0ea",
            "e3a619d1fefb414e83f53033dd8c67d0",
            "5c46eed8d0334333a10eaa70096620e6"
          ]
        },
        "outputId": "7b58db91-9718-4cf3-97f5-56eed43d7a45"
      },
      "source": [
        "##########################\n",
        "### CIFAR-10 Dataset\n",
        "##########################\n",
        "\n",
        "\n",
        "# Note transforms.ToTensor() scales input images\n",
        "# to 0-1 range\n",
        "\n",
        "\n",
        "train_indices = torch.arange(0, 49000)\n",
        "valid_indices = torch.arange(49000, 50000)\n",
        "\n",
        "\n",
        "train_and_valid = datasets.CIFAR10(root='data', \n",
        "                                   train=True, \n",
        "                                   transform=transforms.ToTensor(),\n",
        "                                   download=True)\n",
        "\n",
        "train_dataset = Subset(train_and_valid, train_indices)\n",
        "valid_dataset = Subset(train_and_valid, valid_indices)\n",
        "\n",
        "\n",
        "test_dataset = datasets.CIFAR10(root='data', \n",
        "                                train=False, \n",
        "                                transform=transforms.ToTensor())\n",
        "\n",
        "\n",
        "#####################################################\n",
        "### Data Loaders\n",
        "#####################################################\n",
        "\n",
        "train_loader = DataLoader(dataset=train_dataset, \n",
        "                          batch_size=BATCH_SIZE,\n",
        "                          num_workers=8,\n",
        "                          shuffle=True)\n",
        "\n",
        "valid_loader = DataLoader(dataset=valid_dataset, \n",
        "                          batch_size=BATCH_SIZE,\n",
        "                          num_workers=8,\n",
        "                          shuffle=False)\n",
        "\n",
        "test_loader = DataLoader(dataset=test_dataset, \n",
        "                         batch_size=BATCH_SIZE,\n",
        "                         num_workers=8,\n",
        "                         shuffle=False)\n",
        "\n",
        "#####################################################\n",
        "\n",
        "# Checking the dataset\n",
        "for images, labels in train_loader:  \n",
        "    print('Image batch dimensions:', images.shape)\n",
        "    print('Image label dimensions:', labels.shape)\n",
        "    break\n",
        "\n",
        "for images, labels in test_loader:  \n",
        "    print('Image batch dimensions:', images.shape)\n",
        "    print('Image label dimensions:', labels.shape)\n",
        "    break\n",
        "    \n",
        "for images, labels in valid_loader:  \n",
        "    print('Image batch dimensions:', images.shape)\n",
        "    print('Image label dimensions:', labels.shape)\n",
        "    break"
      ],
      "execution_count": 6,
      "outputs": [
        {
          "output_type": "stream",
          "text": [
            "Downloading https://www.cs.toronto.edu/~kriz/cifar-10-python.tar.gz to data/cifar-10-python.tar.gz\n"
          ],
          "name": "stdout"
        },
        {
          "output_type": "display_data",
          "data": {
            "application/vnd.jupyter.widget-view+json": {
              "model_id": "71930bdabb424b3886ac4767040cafe3",
              "version_minor": 0,
              "version_major": 2
            },
            "text/plain": [
              "HBox(children=(FloatProgress(value=1.0, bar_style='info', max=1.0), HTML(value='')))"
            ]
          },
          "metadata": {
            "tags": []
          }
        },
        {
          "output_type": "stream",
          "text": [
            "Extracting data/cifar-10-python.tar.gz to data\n",
            "Image batch dimensions: torch.Size([256, 3, 32, 32])\n",
            "Image label dimensions: torch.Size([256])\n",
            "Image batch dimensions: torch.Size([256, 3, 32, 32])\n",
            "Image label dimensions: torch.Size([256])\n",
            "Image batch dimensions: torch.Size([256, 3, 32, 32])\n",
            "Image label dimensions: torch.Size([256])\n"
          ],
          "name": "stdout"
        }
      ]
    },
    {
      "cell_type": "code",
      "metadata": {
        "id": "yOqDwyamNEyU",
        "colab_type": "code",
        "colab": {}
      },
      "source": [
        "##########################\n",
        "### MODEL\n",
        "##########################\n",
        "\n",
        "\n",
        "class NiN(nn.Module):\n",
        "    def __init__(self, num_classes):\n",
        "        super(NiN, self).__init__()\n",
        "        self.num_classes = num_classes\n",
        "        self.classifier = nn.Sequential(\n",
        "                nn.Conv2d(3, 192, kernel_size=5, stride=1, padding=2),\n",
        "                nn.ReLU(inplace=True),\n",
        "                nn.Conv2d(192, 160, kernel_size=1, stride=1, padding=0),\n",
        "                nn.ReLU(inplace=True),\n",
        "                nn.Conv2d(160,  96, kernel_size=1, stride=1, padding=0),\n",
        "                nn.ReLU(inplace=True),\n",
        "                nn.MaxPool2d(kernel_size=3, stride=2, padding=1),\n",
        "                nn.Dropout(0.5),\n",
        "\n",
        "                nn.Conv2d(96, 192, kernel_size=5, stride=1, padding=2),\n",
        "                nn.ReLU(inplace=True),\n",
        "                nn.Conv2d(192, 192, kernel_size=1, stride=1, padding=0),\n",
        "                nn.ReLU(inplace=True),\n",
        "                nn.Conv2d(192, 192, kernel_size=1, stride=1, padding=0),\n",
        "                nn.ReLU(inplace=True),\n",
        "                nn.AvgPool2d(kernel_size=3, stride=2, padding=1),\n",
        "                nn.Dropout(0.5),\n",
        "\n",
        "                nn.Conv2d(192, 192, kernel_size=3, stride=1, padding=1),\n",
        "                nn.ReLU(inplace=True),\n",
        "                nn.Conv2d(192, 192, kernel_size=1, stride=1, padding=0),\n",
        "                nn.ReLU(inplace=True),\n",
        "                nn.Conv2d(192,  10, kernel_size=1, stride=1, padding=0),\n",
        "                nn.ReLU(inplace=True),\n",
        "                nn.AvgPool2d(kernel_size=8, stride=1, padding=0),\n",
        "\n",
        "                )\n",
        "\n",
        "    def forward(self, x):\n",
        "        x = self.classifier(x)\n",
        "        logits = x.view(x.size(0), self.num_classes)\n",
        "        probas = torch.softmax(logits, dim=1)\n",
        "        return logits, probas"
      ],
      "execution_count": 7,
      "outputs": []
    },
    {
      "cell_type": "markdown",
      "metadata": {
        "colab_type": "text",
        "id": "RAodboScj5w6"
      },
      "source": [
        "## Training without Pinned Memory"
      ]
    },
    {
      "cell_type": "code",
      "metadata": {
        "colab_type": "code",
        "id": "_lza9t_uj5w1",
        "colab": {}
      },
      "source": [
        "torch.manual_seed(RANDOM_SEED)\n",
        "\n",
        "model = NiN(NUM_CLASSES)\n",
        "model.to(DEVICE)\n",
        "\n",
        "optimizer = torch.optim.Adam(model.parameters(), lr=LEARNING_RATE)  "
      ],
      "execution_count": 8,
      "outputs": []
    },
    {
      "cell_type": "code",
      "metadata": {
        "id": "iGVo5nelNRme",
        "colab_type": "code",
        "colab": {
          "base_uri": "https://localhost:8080/",
          "height": 337
        },
        "outputId": "d85cff9b-b0a2-4f57-90ba-ad09e6c38fcf"
      },
      "source": [
        "import hiddenlayer as hl\n",
        "hl.build_graph(model, torch.zeros([25, 3, 32, 32]).to(DEVICE))"
      ],
      "execution_count": 10,
      "outputs": [
        {
          "output_type": "stream",
          "text": [
            "/usr/local/lib/python3.6/dist-packages/torch/onnx/symbolic_opset9.py:1310: UserWarning: Dropout is a training op and should not be exported in inference mode. Make sure to call eval() on the model, and to export it with param training=False.\n",
            "  warnings.warn(\"Dropout is a training op and should not be exported in inference mode. \"\n"
          ],
          "name": "stderr"
        },
        {
          "output_type": "execute_result",
          "data": {
            "text/plain": [
              "<hiddenlayer.graph.Graph at 0x7ff28e632f28>"
            ],
            "image/svg+xml": "<?xml version=\"1.0\" encoding=\"UTF-8\" standalone=\"no\"?>\n<!DOCTYPE svg PUBLIC \"-//W3C//DTD SVG 1.1//EN\"\n \"http://www.w3.org/Graphics/SVG/1.1/DTD/svg11.dtd\">\n<!-- Generated by graphviz version 2.40.1 (20161225.0304)\n -->\n<!-- Title: %3 Pages: 1 -->\n<svg width=\"2241pt\" height=\"196pt\"\n viewBox=\"0.00 0.00 2241.00 196.00\" xmlns=\"http://www.w3.org/2000/svg\" xmlns:xlink=\"http://www.w3.org/1999/xlink\">\n<g id=\"graph0\" class=\"graph\" transform=\"scale(1 1) rotate(0) translate(72 160)\">\n<title>%3</title>\n<polygon fill=\"#ffffff\" stroke=\"transparent\" points=\"-72,36 -72,-160 2169,-160 2169,36 -72,36\"/>\n<!-- /outputs/25 -->\n<g id=\"node1\" class=\"node\">\n<title>/outputs/25</title>\n<polygon fill=\"#e8e8e8\" stroke=\"#000000\" points=\"248,-40 178,-40 178,-4 248,-4 248,-40\"/>\n<text text-anchor=\"start\" x=\"186\" y=\"-19\" font-family=\"Times\" font-size=\"10.00\" fill=\"#000000\">MaxPool3x3</text>\n</g>\n<!-- /outputs/26/27 -->\n<g id=\"node2\" class=\"node\">\n<title>/outputs/26/27</title>\n<polygon fill=\"#e8e8e8\" stroke=\"#000000\" points=\"396,-40 342,-40 342,-4 396,-4 396,-40\"/>\n<text text-anchor=\"start\" x=\"352\" y=\"-19\" font-family=\"Times\" font-size=\"10.00\" fill=\"#000000\">Dropout</text>\n</g>\n<!-- /outputs/25&#45;&gt;/outputs/26/27 -->\n<g id=\"edge1\" class=\"edge\">\n<title>/outputs/25&#45;&gt;/outputs/26/27</title>\n<path fill=\"none\" stroke=\"#000000\" d=\"M248.0094,-22C272.9589,-22 306.4424,-22 331.8599,-22\"/>\n<polygon fill=\"#000000\" stroke=\"#000000\" points=\"331.8631,-25.5001 341.8631,-22 331.863,-18.5001 331.8631,-25.5001\"/>\n<text text-anchor=\"middle\" x=\"295\" y=\"-25\" font-family=\"Times\" font-size=\"10.00\" fill=\"#000000\">25x96x16x16</text>\n</g>\n<!-- 14375195260836006703 -->\n<g id=\"node18\" class=\"node\">\n<title>14375195260836006703</title>\n<polygon fill=\"#e8e8e8\" stroke=\"#000000\" points=\"574,-44 490,-44 490,0 574,0 574,-44\"/>\n<text text-anchor=\"start\" x=\"498\" y=\"-28\" font-family=\"Times\" font-size=\"10.00\" fill=\"#000000\">Conv5x5 &gt; Relu</text>\n<text text-anchor=\"start\" x=\"559\" y=\"-7\" font-family=\"Times\" font-size=\"10.00\" fill=\"#000000\">x3</text>\n</g>\n<!-- /outputs/26/27&#45;&gt;14375195260836006703 -->\n<g id=\"edge16\" class=\"edge\">\n<title>/outputs/26/27&#45;&gt;14375195260836006703</title>\n<path fill=\"none\" stroke=\"#000000\" d=\"M396.2825,-22C418.9448,-22 451.8428,-22 479.5731,-22\"/>\n<polygon fill=\"#000000\" stroke=\"#000000\" points=\"479.9159,-25.5001 489.9158,-22 479.9158,-18.5001 479.9159,-25.5001\"/>\n<text text-anchor=\"middle\" x=\"443\" y=\"-25\" font-family=\"Times\" font-size=\"10.00\" fill=\"#000000\">25x96x16x16</text>\n</g>\n<!-- /outputs/34 -->\n<g id=\"node3\" class=\"node\">\n<title>/outputs/34</title>\n<polygon fill=\"#e8e8e8\" stroke=\"#000000\" points=\"728,-40 674,-40 674,-4 728,-4 728,-40\"/>\n<text text-anchor=\"start\" x=\"693\" y=\"-19\" font-family=\"Times\" font-size=\"10.00\" fill=\"#000000\">Pad</text>\n</g>\n<!-- /outputs/35 -->\n<g id=\"node4\" class=\"node\">\n<title>/outputs/35</title>\n<polygon fill=\"#e8e8e8\" stroke=\"#000000\" points=\"849,-40 765,-40 765,-4 849,-4 849,-40\"/>\n<text text-anchor=\"start\" x=\"773\" y=\"-19\" font-family=\"Times\" font-size=\"10.00\" fill=\"#000000\">AveragePool3x3</text>\n</g>\n<!-- /outputs/34&#45;&gt;/outputs/35 -->\n<g id=\"edge2\" class=\"edge\">\n<title>/outputs/34&#45;&gt;/outputs/35</title>\n<path fill=\"none\" stroke=\"#000000\" d=\"M728.0225,-22C736.1336,-22 745.323,-22 754.4927,-22\"/>\n<polygon fill=\"#000000\" stroke=\"#000000\" points=\"754.7788,-25.5001 764.7788,-22 754.7788,-18.5001 754.7788,-25.5001\"/>\n</g>\n<!-- /outputs/36/37 -->\n<g id=\"node5\" class=\"node\">\n<title>/outputs/36/37</title>\n<polygon fill=\"#e8e8e8\" stroke=\"#000000\" points=\"992,-40 938,-40 938,-4 992,-4 992,-40\"/>\n<text text-anchor=\"start\" x=\"948\" y=\"-19\" font-family=\"Times\" font-size=\"10.00\" fill=\"#000000\">Dropout</text>\n</g>\n<!-- /outputs/35&#45;&gt;/outputs/36/37 -->\n<g id=\"edge3\" class=\"edge\">\n<title>/outputs/35&#45;&gt;/outputs/36/37</title>\n<path fill=\"none\" stroke=\"#000000\" d=\"M849.3411,-22C873.7559,-22 904.173,-22 927.6857,-22\"/>\n<polygon fill=\"#000000\" stroke=\"#000000\" points=\"927.9567,-25.5001 937.9567,-22 927.9567,-18.5001 927.9567,-25.5001\"/>\n<text text-anchor=\"middle\" x=\"893.5\" y=\"-25\" font-family=\"Times\" font-size=\"10.00\" fill=\"#000000\">25x192x8x8</text>\n</g>\n<!-- 12569517026776094957 -->\n<g id=\"node19\" class=\"node\">\n<title>12569517026776094957</title>\n<polygon fill=\"#e8e8e8\" stroke=\"#000000\" points=\"1165,-44 1081,-44 1081,0 1165,0 1165,-44\"/>\n<text text-anchor=\"start\" x=\"1089\" y=\"-28\" font-family=\"Times\" font-size=\"10.00\" fill=\"#000000\">Conv3x3 &gt; Relu</text>\n<text text-anchor=\"start\" x=\"1150\" y=\"-7\" font-family=\"Times\" font-size=\"10.00\" fill=\"#000000\">x3</text>\n</g>\n<!-- /outputs/36/37&#45;&gt;12569517026776094957 -->\n<g id=\"edge18\" class=\"edge\">\n<title>/outputs/36/37&#45;&gt;12569517026776094957</title>\n<path fill=\"none\" stroke=\"#000000\" d=\"M992.1612,-22C1013.6593,-22 1044.3273,-22 1070.5687,-22\"/>\n<polygon fill=\"#000000\" stroke=\"#000000\" points=\"1070.753,-25.5001 1080.753,-22 1070.7529,-18.5001 1070.753,-25.5001\"/>\n<text text-anchor=\"middle\" x=\"1036.5\" y=\"-25\" font-family=\"Times\" font-size=\"10.00\" fill=\"#000000\">25x192x8x8</text>\n</g>\n<!-- /outputs/44 -->\n<g id=\"node6\" class=\"node\">\n<title>/outputs/44</title>\n<polygon fill=\"#e8e8e8\" stroke=\"#000000\" points=\"1303,-40 1249,-40 1249,-4 1303,-4 1303,-40\"/>\n<text text-anchor=\"start\" x=\"1268\" y=\"-19\" font-family=\"Times\" font-size=\"10.00\" fill=\"#000000\">Pad</text>\n</g>\n<!-- /outputs/45 -->\n<g id=\"node7\" class=\"node\">\n<title>/outputs/45</title>\n<polygon fill=\"#e8e8e8\" stroke=\"#000000\" points=\"1424,-40 1340,-40 1340,-4 1424,-4 1424,-40\"/>\n<text text-anchor=\"start\" x=\"1348\" y=\"-19\" font-family=\"Times\" font-size=\"10.00\" fill=\"#000000\">AveragePool8x8</text>\n</g>\n<!-- /outputs/44&#45;&gt;/outputs/45 -->\n<g id=\"edge4\" class=\"edge\">\n<title>/outputs/44&#45;&gt;/outputs/45</title>\n<path fill=\"none\" stroke=\"#000000\" d=\"M1303.0225,-22C1311.1336,-22 1320.323,-22 1329.4927,-22\"/>\n<polygon fill=\"#000000\" stroke=\"#000000\" points=\"1329.7788,-25.5001 1339.7788,-22 1329.7788,-18.5001 1329.7788,-25.5001\"/>\n</g>\n<!-- /outputs/46 -->\n<g id=\"node8\" class=\"node\">\n<title>/outputs/46</title>\n<polygon fill=\"#e8e8e8\" stroke=\"#000000\" points=\"1562,-70 1508,-70 1508,-34 1562,-34 1562,-70\"/>\n<text text-anchor=\"start\" x=\"1523\" y=\"-49\" font-family=\"Times\" font-size=\"10.00\" fill=\"#000000\">Shape</text>\n</g>\n<!-- /outputs/45&#45;&gt;/outputs/46 -->\n<g id=\"edge5\" class=\"edge\">\n<title>/outputs/45&#45;&gt;/outputs/46</title>\n<path fill=\"none\" stroke=\"#000000\" d=\"M1424.2129,-30.277C1447.2732,-34.7987 1475.5743,-40.3479 1497.7998,-44.7058\"/>\n<polygon fill=\"#000000\" stroke=\"#000000\" points=\"1497.3707,-48.1883 1507.8574,-46.6779 1498.7177,-41.3191 1497.3707,-48.1883\"/>\n<text text-anchor=\"middle\" x=\"1466\" y=\"-46\" font-family=\"Times\" font-size=\"10.00\" fill=\"#000000\">25x10x1x1</text>\n</g>\n<!-- /outputs/53 -->\n<g id=\"node15\" class=\"node\">\n<title>/outputs/53</title>\n<polygon fill=\"#e8e8e8\" stroke=\"#000000\" points=\"1980,-36 1926,-36 1926,0 1980,0 1980,-36\"/>\n<text text-anchor=\"start\" x=\"1936\" y=\"-15\" font-family=\"Times\" font-size=\"10.00\" fill=\"#000000\">Reshape</text>\n</g>\n<!-- /outputs/45&#45;&gt;/outputs/53 -->\n<g id=\"edge6\" class=\"edge\">\n<title>/outputs/45&#45;&gt;/outputs/53</title>\n<path fill=\"none\" stroke=\"#000000\" d=\"M1424.0883,-15.2146C1454.7531,-10.8538 1497.3426,-6 1535,-6 1535,-6 1535,-6 1862,-6 1879.6472,-6 1899.0554,-8.2456 1915.3988,-10.7939\"/>\n<polygon fill=\"#000000\" stroke=\"#000000\" points=\"1915.2092,-14.3101 1925.6468,-12.4917 1916.3534,-7.4043 1915.2092,-14.3101\"/>\n<text text-anchor=\"middle\" x=\"1695\" y=\"-9\" font-family=\"Times\" font-size=\"10.00\" fill=\"#000000\">25x10x1x1</text>\n</g>\n<!-- /outputs/48 -->\n<g id=\"node10\" class=\"node\">\n<title>/outputs/48</title>\n<polygon fill=\"#e8e8e8\" stroke=\"#000000\" points=\"1653,-70 1599,-70 1599,-34 1653,-34 1653,-70\"/>\n<text text-anchor=\"start\" x=\"1612\" y=\"-49\" font-family=\"Times\" font-size=\"10.00\" fill=\"#000000\">Gather</text>\n</g>\n<!-- /outputs/46&#45;&gt;/outputs/48 -->\n<g id=\"edge7\" class=\"edge\">\n<title>/outputs/46&#45;&gt;/outputs/48</title>\n<path fill=\"none\" stroke=\"#000000\" d=\"M1562.303,-52C1570.5813,-52 1579.8217,-52 1588.6405,-52\"/>\n<polygon fill=\"#000000\" stroke=\"#000000\" points=\"1588.7163,-55.5001 1598.7163,-52 1588.7162,-48.5001 1588.7163,-55.5001\"/>\n</g>\n<!-- /outputs/47 -->\n<g id=\"node9\" class=\"node\">\n<title>/outputs/47</title>\n<polygon fill=\"#e8e8e8\" stroke=\"#000000\" points=\"1562,-124 1508,-124 1508,-88 1562,-88 1562,-124\"/>\n<text text-anchor=\"start\" x=\"1517\" y=\"-103\" font-family=\"Times\" font-size=\"10.00\" fill=\"#000000\">Constant</text>\n</g>\n<!-- /outputs/47&#45;&gt;/outputs/48 -->\n<g id=\"edge8\" class=\"edge\">\n<title>/outputs/47&#45;&gt;/outputs/48</title>\n<path fill=\"none\" stroke=\"#000000\" d=\"M1562.303,-89.7982C1571.0312,-84.6189 1580.829,-78.8048 1590.0744,-73.3185\"/>\n<polygon fill=\"#000000\" stroke=\"#000000\" points=\"1591.9025,-76.3035 1598.7163,-68.1903 1588.3303,-70.2836 1591.9025,-76.3035\"/>\n</g>\n<!-- /outputs/50 -->\n<g id=\"node12\" class=\"node\">\n<title>/outputs/50</title>\n<polygon fill=\"#e8e8e8\" stroke=\"#000000\" points=\"1798,-70 1737,-70 1737,-34 1798,-34 1798,-70\"/>\n<text text-anchor=\"start\" x=\"1745.5\" y=\"-49\" font-family=\"Times\" font-size=\"10.00\" fill=\"#000000\">Unsqueeze</text>\n</g>\n<!-- /outputs/48&#45;&gt;/outputs/50 -->\n<g id=\"edge9\" class=\"edge\">\n<title>/outputs/48&#45;&gt;/outputs/50</title>\n<path fill=\"none\" stroke=\"#000000\" d=\"M1653.2826,-52C1674.1297,-52 1703.1976,-52 1726.7915,-52\"/>\n<polygon fill=\"#000000\" stroke=\"#000000\" points=\"1726.862,-55.5001 1736.862,-52 1726.8619,-48.5001 1726.862,-55.5001\"/>\n</g>\n<!-- /outputs/49 -->\n<g id=\"node11\" class=\"node\">\n<title>/outputs/49</title>\n<polygon fill=\"#e8e8e8\" stroke=\"#000000\" points=\"1653,-124 1599,-124 1599,-88 1653,-88 1653,-124\"/>\n<text text-anchor=\"start\" x=\"1608\" y=\"-103\" font-family=\"Times\" font-size=\"10.00\" fill=\"#000000\">Constant</text>\n</g>\n<!-- /outputs/51 -->\n<g id=\"node13\" class=\"node\">\n<title>/outputs/51</title>\n<polygon fill=\"#e8e8e8\" stroke=\"#000000\" points=\"1798,-124 1737,-124 1737,-88 1798,-88 1798,-124\"/>\n<text text-anchor=\"start\" x=\"1745.5\" y=\"-103\" font-family=\"Times\" font-size=\"10.00\" fill=\"#000000\">Unsqueeze</text>\n</g>\n<!-- /outputs/49&#45;&gt;/outputs/51 -->\n<g id=\"edge10\" class=\"edge\">\n<title>/outputs/49&#45;&gt;/outputs/51</title>\n<path fill=\"none\" stroke=\"#000000\" d=\"M1653.2826,-106C1674.1297,-106 1703.1976,-106 1726.7915,-106\"/>\n<polygon fill=\"#000000\" stroke=\"#000000\" points=\"1726.862,-109.5001 1736.862,-106 1726.8619,-102.5001 1726.862,-109.5001\"/>\n</g>\n<!-- /outputs/52 -->\n<g id=\"node14\" class=\"node\">\n<title>/outputs/52</title>\n<polygon fill=\"#e8e8e8\" stroke=\"#000000\" points=\"1889,-70 1835,-70 1835,-34 1889,-34 1889,-70\"/>\n<text text-anchor=\"start\" x=\"1847\" y=\"-49\" font-family=\"Times\" font-size=\"10.00\" fill=\"#000000\">Concat</text>\n</g>\n<!-- /outputs/50&#45;&gt;/outputs/52 -->\n<g id=\"edge11\" class=\"edge\">\n<title>/outputs/50&#45;&gt;/outputs/52</title>\n<path fill=\"none\" stroke=\"#000000\" d=\"M1798.1814,-52C1806.7033,-52 1816.0485,-52 1824.8957,-52\"/>\n<polygon fill=\"#000000\" stroke=\"#000000\" points=\"1824.9735,-55.5001 1834.9735,-52 1824.9734,-48.5001 1824.9735,-55.5001\"/>\n</g>\n<!-- /outputs/51&#45;&gt;/outputs/52 -->\n<g id=\"edge12\" class=\"edge\">\n<title>/outputs/51&#45;&gt;/outputs/52</title>\n<path fill=\"none\" stroke=\"#000000\" d=\"M1798.1814,-88.4677C1807.0738,-83.3864 1816.8627,-77.7927 1826.0467,-72.5447\"/>\n<polygon fill=\"#000000\" stroke=\"#000000\" points=\"1828.0275,-75.444 1834.9735,-67.4437 1824.5545,-69.3663 1828.0275,-75.444\"/>\n</g>\n<!-- /outputs/52&#45;&gt;/outputs/53 -->\n<g id=\"edge13\" class=\"edge\">\n<title>/outputs/52&#45;&gt;/outputs/53</title>\n<path fill=\"none\" stroke=\"#000000\" d=\"M1889.303,-41.7989C1897.7612,-38.6387 1907.224,-35.1031 1916.215,-31.7438\"/>\n<polygon fill=\"#000000\" stroke=\"#000000\" points=\"1917.5738,-34.9726 1925.7163,-28.1939 1915.1237,-28.4153 1917.5738,-34.9726\"/>\n</g>\n<!-- /outputs/54 -->\n<g id=\"node16\" class=\"node\">\n<title>/outputs/54</title>\n<polygon fill=\"#e8e8e8\" stroke=\"#000000\" points=\"2097,-36 2043,-36 2043,0 2097,0 2097,-36\"/>\n<text text-anchor=\"start\" x=\"2053\" y=\"-15\" font-family=\"Times\" font-size=\"10.00\" fill=\"#000000\">Softmax</text>\n</g>\n<!-- /outputs/53&#45;&gt;/outputs/54 -->\n<g id=\"edge14\" class=\"edge\">\n<title>/outputs/53&#45;&gt;/outputs/54</title>\n<path fill=\"none\" stroke=\"#000000\" d=\"M1980.1362,-18C1995.6773,-18 2015.4112,-18 2032.4253,-18\"/>\n<polygon fill=\"#000000\" stroke=\"#000000\" points=\"2032.6057,-21.5001 2042.6056,-18 2032.6056,-14.5001 2032.6057,-21.5001\"/>\n<text text-anchor=\"middle\" x=\"2011.5\" y=\"-21\" font-family=\"Times\" font-size=\"10.00\" fill=\"#000000\">25x10</text>\n</g>\n<!-- 12831537399094885030 -->\n<g id=\"node17\" class=\"node\">\n<title>12831537399094885030</title>\n<polygon fill=\"#e8e8e8\" stroke=\"#000000\" points=\"84,-44 0,-44 0,0 84,0 84,-44\"/>\n<text text-anchor=\"start\" x=\"8\" y=\"-28\" font-family=\"Times\" font-size=\"10.00\" fill=\"#000000\">Conv5x5 &gt; Relu</text>\n<text text-anchor=\"start\" x=\"69\" y=\"-7\" font-family=\"Times\" font-size=\"10.00\" fill=\"#000000\">x3</text>\n</g>\n<!-- 12831537399094885030&#45;&gt;/outputs/25 -->\n<g id=\"edge15\" class=\"edge\">\n<title>12831537399094885030&#45;&gt;/outputs/25</title>\n<path fill=\"none\" stroke=\"#000000\" d=\"M84.2697,-22C109.5651,-22 141.7113,-22 167.5519,-22\"/>\n<polygon fill=\"#000000\" stroke=\"#000000\" points=\"167.8392,-25.5001 177.8391,-22 167.8391,-18.5001 167.8392,-25.5001\"/>\n<text text-anchor=\"middle\" x=\"131\" y=\"-25\" font-family=\"Times\" font-size=\"10.00\" fill=\"#000000\">25x96x32x32</text>\n</g>\n<!-- 14375195260836006703&#45;&gt;/outputs/34 -->\n<g id=\"edge17\" class=\"edge\">\n<title>14375195260836006703&#45;&gt;/outputs/34</title>\n<path fill=\"none\" stroke=\"#000000\" d=\"M574.2099,-22C601.7427,-22 637.3463,-22 663.8125,-22\"/>\n<polygon fill=\"#000000\" stroke=\"#000000\" points=\"663.8289,-25.5001 673.8289,-22 663.8289,-18.5001 663.8289,-25.5001\"/>\n<text text-anchor=\"middle\" x=\"624\" y=\"-25\" font-family=\"Times\" font-size=\"10.00\" fill=\"#000000\">25x192x16x16</text>\n</g>\n<!-- 12569517026776094957&#45;&gt;/outputs/44 -->\n<g id=\"edge19\" class=\"edge\">\n<title>12569517026776094957&#45;&gt;/outputs/44</title>\n<path fill=\"none\" stroke=\"#000000\" d=\"M1165.2129,-22C1188.2732,-22 1216.5743,-22 1238.7998,-22\"/>\n<polygon fill=\"#000000\" stroke=\"#000000\" points=\"1238.8574,-25.5001 1248.8574,-22 1238.8573,-18.5001 1238.8574,-25.5001\"/>\n<text text-anchor=\"middle\" x=\"1207\" y=\"-25\" font-family=\"Times\" font-size=\"10.00\" fill=\"#000000\">25x10x8x8</text>\n</g>\n</g>\n</svg>\n"
          },
          "metadata": {
            "tags": []
          },
          "execution_count": 10
        }
      ]
    },
    {
      "cell_type": "code",
      "metadata": {
        "colab_type": "code",
        "id": "Dzh3ROmRj5w7",
        "colab": {}
      },
      "source": [
        "def compute_accuracy(model, data_loader, device):\n",
        "    correct_pred, num_examples = 0, 0\n",
        "    for i, (features, targets) in enumerate(data_loader):\n",
        "            \n",
        "        features = features.to(device)\n",
        "        targets = targets.to(device)\n",
        "\n",
        "        logits, probas = model(features)\n",
        "        _, predicted_labels = torch.max(probas, 1)\n",
        "        num_examples += targets.size(0)\n",
        "        correct_pred += (predicted_labels == targets).sum()\n",
        "    return correct_pred.float()/num_examples * 100\n",
        "    \n",
        "\n",
        "start_time = time.time()\n",
        "for epoch in range(NUM_EPOCHS):\n",
        "    \n",
        "    model.train()\n",
        "    \n",
        "    for batch_idx, (features, targets) in enumerate(train_loader):\n",
        "    \n",
        "        ### PREPARE MINIBATCH\n",
        "        features = features.to(DEVICE)\n",
        "        targets = targets.to(DEVICE)\n",
        "            \n",
        "        ### FORWARD AND BACK PROP\n",
        "        logits, probas = model(features)\n",
        "        cost = F.cross_entropy(logits, targets)\n",
        "        optimizer.zero_grad()\n",
        "        \n",
        "        cost.backward()\n",
        "        \n",
        "        ### UPDATE MODEL PARAMETERS\n",
        "        optimizer.step()\n",
        "        \n",
        "        ### LOGGING\n",
        "        if not batch_idx % 120:\n",
        "            print (f'Epoch: {epoch+1:03d}/{NUM_EPOCHS:03d} | '\n",
        "                   f'Batch {batch_idx:03d}/{len(train_loader):03d} |' \n",
        "                   f' Cost: {cost:.4f}')\n",
        "\n",
        "    # no need to build the computation graph for backprop when computing accuracy\n",
        "    with torch.set_grad_enabled(False):\n",
        "        train_acc = compute_accuracy(model, train_loader, device=DEVICE)\n",
        "        valid_acc = compute_accuracy(model, valid_loader, device=DEVICE)\n",
        "        print(f'Epoch: {epoch+1:03d}/{NUM_EPOCHS:03d} Train Acc.: {train_acc:.2f}%'\n",
        "              f' | Validation Acc.: {valid_acc:.2f}%')\n",
        "        \n",
        "    elapsed = (time.time() - start_time)/60\n",
        "    print(f'Time elapsed: {elapsed:.2f} min')\n",
        "  \n",
        "elapsed = (time.time() - start_time)/60\n",
        "print(f'Total Training Time: {elapsed:.2f} min')"
      ],
      "execution_count": null,
      "outputs": []
    },
    {
      "cell_type": "code",
      "metadata": {
        "id": "SseIzGCvNEyc",
        "colab_type": "code",
        "colab": {}
      },
      "source": [
        "%watermark -iv"
      ],
      "execution_count": null,
      "outputs": []
    }
  ]
}