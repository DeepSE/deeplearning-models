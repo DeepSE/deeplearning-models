{
 "cells": [
  {
   "cell_type": "markdown",
   "metadata": {},
   "source": [
    "Deep Learning Models -- A collection of various deep learning architectures, models, and tips for TensorFlow and PyTorch in Jupyter Notebooks.\n",
    "- Author: Sebastian Raschka\n",
    "- GitHub Repository: https://github.com/rasbt/deeplearning-models"
   ]
  },
  {
   "cell_type": "code",
   "execution_count": 1,
   "metadata": {
    "tags": []
   },
   "outputs": [
    {
     "output_type": "stream",
     "name": "stdout",
     "text": "Sebastian Raschka \n\nCPython 3.7.3\nIPython 7.16.1\n\ntorch 1.5.1\n"
    }
   ],
   "source": [
    "%load_ext watermark\n",
    "%watermark -a 'Sebastian Raschka' -v -p torch"
   ]
  },
  {
   "cell_type": "markdown",
   "metadata": {},
   "source": [
    "- Runs on CPU or GPU (if available)"
   ]
  },
  {
   "cell_type": "markdown",
   "metadata": {},
   "source": [
    "# Model Zoo -- Multilayer Perceptron with BatchNorm"
   ]
  },
  {
   "cell_type": "markdown",
   "metadata": {},
   "source": [
    "## Imports"
   ]
  },
  {
   "cell_type": "code",
   "execution_count": 2,
   "metadata": {},
   "outputs": [],
   "source": [
    "import time\n",
    "import numpy as np\n",
    "from torchvision import datasets\n",
    "from torchvision import transforms\n",
    "from torch.utils.data import DataLoader\n",
    "import torch.nn.functional as F\n",
    "import torch\n",
    "\n",
    "\n",
    "if torch.cuda.is_available():\n",
    "    torch.backends.cudnn.deterministic = True"
   ]
  },
  {
   "cell_type": "markdown",
   "metadata": {},
   "source": [
    "## Settings and Dataset"
   ]
  },
  {
   "cell_type": "code",
   "execution_count": 3,
   "metadata": {
    "tags": []
   },
   "outputs": [
    {
     "output_type": "stream",
     "name": "stdout",
     "text": "Image batch dimensions: torch.Size([64, 1, 28, 28])\nImage label dimensions: torch.Size([64])\n"
    }
   ],
   "source": [
    "##########################\n",
    "### SETTINGS\n",
    "##########################\n",
    "\n",
    "# Device\n",
    "device = torch.device(\"cuda:0\" if torch.cuda.is_available() else \"cpu\")\n",
    "\n",
    "# Hyperparameters\n",
    "random_seed = 1\n",
    "learning_rate = 0.1\n",
    "num_epochs = 10\n",
    "batch_size = 64\n",
    "\n",
    "# Architecture\n",
    "num_features = 784\n",
    "num_hidden_1 = 128\n",
    "num_hidden_2 = 256\n",
    "num_classes = 10\n",
    "\n",
    "\n",
    "##########################\n",
    "### MNIST DATASET\n",
    "##########################\n",
    "\n",
    "# Note transforms.ToTensor() scales input images\n",
    "# to 0-1 range\n",
    "train_dataset = datasets.MNIST(root='data', \n",
    "                               train=True, \n",
    "                               transform=transforms.ToTensor(),\n",
    "                               download=True)\n",
    "\n",
    "test_dataset = datasets.MNIST(root='data', \n",
    "                              train=False, \n",
    "                              transform=transforms.ToTensor())\n",
    "\n",
    "\n",
    "train_loader = DataLoader(dataset=train_dataset, \n",
    "                          batch_size=batch_size, \n",
    "                          shuffle=True)\n",
    "\n",
    "test_loader = DataLoader(dataset=test_dataset, \n",
    "                         batch_size=batch_size, \n",
    "                         shuffle=False)\n",
    "\n",
    "# Checking the dataset\n",
    "for images, labels in train_loader:  \n",
    "    print('Image batch dimensions:', images.shape)\n",
    "    print('Image label dimensions:', labels.shape)\n",
    "    break"
   ]
  },
  {
   "cell_type": "code",
   "execution_count": 4,
   "metadata": {},
   "outputs": [],
   "source": [
    "##########################\n",
    "### MODEL\n",
    "##########################\n",
    "\n",
    "class MultilayerPerceptron(torch.nn.Module):\n",
    "\n",
    "    def __init__(self, num_features, num_classes):\n",
    "        super(MultilayerPerceptron, self).__init__()\n",
    "        \n",
    "        ### 1st hidden layer\n",
    "        self.linear_1 = torch.nn.Linear(num_features, num_hidden_1)\n",
    "        # The following to lones are not necessary, \n",
    "        # but used here to demonstrate how to access the weights\n",
    "        # and use a different weight initialization.\n",
    "        # By default, PyTorch uses Xavier/Glorot initialization, which\n",
    "        # should usually be preferred.\n",
    "        self.linear_1.weight.detach().normal_(0.0, 0.1)\n",
    "        self.linear_1.bias.detach().zero_()\n",
    "        self.linear_1_bn = torch.nn.BatchNorm1d(num_hidden_1)\n",
    "        \n",
    "        ### 2nd hidden layer\n",
    "        self.linear_2 = torch.nn.Linear(num_hidden_1, num_hidden_2)\n",
    "        self.linear_2.weight.detach().normal_(0.0, 0.1)\n",
    "        self.linear_2.bias.detach().zero_()\n",
    "        self.linear_2_bn = torch.nn.BatchNorm1d(num_hidden_2)\n",
    "        \n",
    "        ### Output layer\n",
    "        self.linear_out = torch.nn.Linear(num_hidden_2, num_classes)\n",
    "        self.linear_out.weight.detach().normal_(0.0, 0.1)\n",
    "        self.linear_out.bias.detach().zero_()\n",
    "        \n",
    "    def forward(self, x):\n",
    "        out = self.linear_1(x)\n",
    "        # note that batchnorm is in the classic\n",
    "        # sense placed before the activation\n",
    "        out = self.linear_1_bn(out)\n",
    "        out = F.relu(out)\n",
    "        \n",
    "        out = self.linear_2(out)\n",
    "        out = self.linear_2_bn(out)\n",
    "        out = F.relu(out)\n",
    "        \n",
    "        logits = self.linear_out(out)\n",
    "        probas = F.softmax(logits, dim=1)\n",
    "        return logits, probas\n",
    "\n",
    "    \n",
    "torch.manual_seed(random_seed)\n",
    "model = MultilayerPerceptron(num_features=num_features,\n",
    "                             num_classes=num_classes)\n",
    "\n",
    "model = model.to(device)\n",
    "\n",
    "optimizer = torch.optim.SGD(model.parameters(), lr=learning_rate)"
   ]
  },
  {
   "cell_type": "code",
   "execution_count": 5,
   "metadata": {
    "tags": []
   },
   "outputs": [
    {
     "output_type": "execute_result",
     "data": {
      "text/plain": "<hiddenlayer.graph.Graph at 0x1364eb940>",
      "image/svg+xml": "<?xml version=\"1.0\" encoding=\"UTF-8\" standalone=\"no\"?>\n<!DOCTYPE svg PUBLIC \"-//W3C//DTD SVG 1.1//EN\"\n \"http://www.w3.org/Graphics/SVG/1.1/DTD/svg11.dtd\">\n<!-- Generated by graphviz version 2.44.0 (20200408.0750)\n -->\n<!-- Pages: 1 -->\n<svg width=\"1035pt\" height=\"108pt\"\n viewBox=\"0.00 0.00 1035.00 108.00\" xmlns=\"http://www.w3.org/2000/svg\" xmlns:xlink=\"http://www.w3.org/1999/xlink\">\n<g id=\"graph0\" class=\"graph\" transform=\"scale(1 1) rotate(0) translate(72 72)\">\n<polygon fill=\"#ffffff\" stroke=\"transparent\" points=\"-72,36 -72,-72 963,-72 963,36 -72,36\"/>\n<!-- /outputs/17 -->\n<g id=\"node1\" class=\"node\">\n<title>/outputs/17</title>\n<polygon fill=\"#e8e8e8\" stroke=\"#000000\" points=\"54,-36 0,-36 0,0 54,0 54,-36\"/>\n<text text-anchor=\"start\" x=\"14\" y=\"-15\" font-family=\"Times\" font-size=\"10.00\" fill=\"#000000\">Linear</text>\n</g>\n<!-- /outputs/18/19/20/21/22 -->\n<g id=\"node2\" class=\"node\">\n<title>/outputs/18/19/20/21/22</title>\n<polygon fill=\"#e8e8e8\" stroke=\"#000000\" points=\"186,-36 122,-36 122,0 186,0 186,-36\"/>\n<text text-anchor=\"start\" x=\"130\" y=\"-15\" font-family=\"Times\" font-size=\"10.00\" fill=\"#000000\">BatchNorm</text>\n</g>\n<!-- /outputs/17&#45;&gt;/outputs/18/19/20/21/22 -->\n<g id=\"edge1\" class=\"edge\">\n<title>/outputs/17&#45;&gt;/outputs/18/19/20/21/22</title>\n<path fill=\"none\" stroke=\"#000000\" d=\"M54.2,-18C70.88,-18 92.82,-18 111.79,-18\"/>\n<polygon fill=\"#000000\" stroke=\"#000000\" points=\"111.97,-21.5 121.97,-18 111.97,-14.5 111.97,-21.5\"/>\n<text text-anchor=\"middle\" x=\"88\" y=\"-21\" font-family=\"Times\" font-size=\"10.00\" fill=\"#000000\">64x128</text>\n</g>\n<!-- /outputs/23 -->\n<g id=\"node3\" class=\"node\">\n<title>/outputs/23</title>\n<polygon fill=\"#e8e8e8\" stroke=\"#000000\" points=\"292,-36 238,-36 238,0 292,0 292,-36\"/>\n<text text-anchor=\"start\" x=\"255\" y=\"-15\" font-family=\"Times\" font-size=\"10.00\" fill=\"#000000\">Relu</text>\n</g>\n<!-- /outputs/18/19/20/21/22&#45;&gt;/outputs/23 -->\n<g id=\"edge2\" class=\"edge\">\n<title>/outputs/18/19/20/21/22&#45;&gt;/outputs/23</title>\n<path fill=\"none\" stroke=\"#000000\" d=\"M186.24,-18C199.14,-18 214.19,-18 227.59,-18\"/>\n<polygon fill=\"#000000\" stroke=\"#000000\" points=\"227.92,-21.5 237.92,-18 227.92,-14.5 227.92,-21.5\"/>\n<text text-anchor=\"middle\" x=\"212\" y=\"-21\" font-family=\"Times\" font-size=\"10.00\" fill=\"#000000\">128</text>\n</g>\n<!-- /outputs/24 -->\n<g id=\"node4\" class=\"node\">\n<title>/outputs/24</title>\n<polygon fill=\"#e8e8e8\" stroke=\"#000000\" points=\"414,-36 360,-36 360,0 414,0 414,-36\"/>\n<text text-anchor=\"start\" x=\"374\" y=\"-15\" font-family=\"Times\" font-size=\"10.00\" fill=\"#000000\">Linear</text>\n</g>\n<!-- /outputs/23&#45;&gt;/outputs/24 -->\n<g id=\"edge3\" class=\"edge\">\n<title>/outputs/23&#45;&gt;/outputs/24</title>\n<path fill=\"none\" stroke=\"#000000\" d=\"M292.04,-18C308.83,-18 330.91,-18 349.44,-18\"/>\n<polygon fill=\"#000000\" stroke=\"#000000\" points=\"349.6,-21.5 359.6,-18 349.6,-14.5 349.6,-21.5\"/>\n<text text-anchor=\"middle\" x=\"326\" y=\"-21\" font-family=\"Times\" font-size=\"10.00\" fill=\"#000000\">64x128</text>\n</g>\n<!-- /outputs/25/26/27/28/29 -->\n<g id=\"node5\" class=\"node\">\n<title>/outputs/25/26/27/28/29</title>\n<polygon fill=\"#e8e8e8\" stroke=\"#000000\" points=\"546,-36 482,-36 482,0 546,0 546,-36\"/>\n<text text-anchor=\"start\" x=\"490\" y=\"-15\" font-family=\"Times\" font-size=\"10.00\" fill=\"#000000\">BatchNorm</text>\n</g>\n<!-- /outputs/24&#45;&gt;/outputs/25/26/27/28/29 -->\n<g id=\"edge4\" class=\"edge\">\n<title>/outputs/24&#45;&gt;/outputs/25/26/27/28/29</title>\n<path fill=\"none\" stroke=\"#000000\" d=\"M414.2,-18C430.88,-18 452.82,-18 471.79,-18\"/>\n<polygon fill=\"#000000\" stroke=\"#000000\" points=\"471.97,-21.5 481.97,-18 471.97,-14.5 471.97,-21.5\"/>\n<text text-anchor=\"middle\" x=\"448\" y=\"-21\" font-family=\"Times\" font-size=\"10.00\" fill=\"#000000\">64x256</text>\n</g>\n<!-- /outputs/30 -->\n<g id=\"node6\" class=\"node\">\n<title>/outputs/30</title>\n<polygon fill=\"#e8e8e8\" stroke=\"#000000\" points=\"652,-36 598,-36 598,0 652,0 652,-36\"/>\n<text text-anchor=\"start\" x=\"615\" y=\"-15\" font-family=\"Times\" font-size=\"10.00\" fill=\"#000000\">Relu</text>\n</g>\n<!-- /outputs/25/26/27/28/29&#45;&gt;/outputs/30 -->\n<g id=\"edge5\" class=\"edge\">\n<title>/outputs/25/26/27/28/29&#45;&gt;/outputs/30</title>\n<path fill=\"none\" stroke=\"#000000\" d=\"M546.24,-18C559.14,-18 574.19,-18 587.59,-18\"/>\n<polygon fill=\"#000000\" stroke=\"#000000\" points=\"587.92,-21.5 597.92,-18 587.92,-14.5 587.92,-21.5\"/>\n<text text-anchor=\"middle\" x=\"572\" y=\"-21\" font-family=\"Times\" font-size=\"10.00\" fill=\"#000000\">256</text>\n</g>\n<!-- /outputs/31 -->\n<g id=\"node7\" class=\"node\">\n<title>/outputs/31</title>\n<polygon fill=\"#e8e8e8\" stroke=\"#000000\" points=\"774,-36 720,-36 720,0 774,0 774,-36\"/>\n<text text-anchor=\"start\" x=\"734\" y=\"-15\" font-family=\"Times\" font-size=\"10.00\" fill=\"#000000\">Linear</text>\n</g>\n<!-- /outputs/30&#45;&gt;/outputs/31 -->\n<g id=\"edge6\" class=\"edge\">\n<title>/outputs/30&#45;&gt;/outputs/31</title>\n<path fill=\"none\" stroke=\"#000000\" d=\"M652.04,-18C668.83,-18 690.91,-18 709.44,-18\"/>\n<polygon fill=\"#000000\" stroke=\"#000000\" points=\"709.6,-21.5 719.6,-18 709.6,-14.5 709.6,-21.5\"/>\n<text text-anchor=\"middle\" x=\"686\" y=\"-21\" font-family=\"Times\" font-size=\"10.00\" fill=\"#000000\">64x256</text>\n</g>\n<!-- /outputs/32 -->\n<g id=\"node8\" class=\"node\">\n<title>/outputs/32</title>\n<polygon fill=\"#e8e8e8\" stroke=\"#000000\" points=\"891,-36 837,-36 837,0 891,0 891,-36\"/>\n<text text-anchor=\"start\" x=\"847\" y=\"-15\" font-family=\"Times\" font-size=\"10.00\" fill=\"#000000\">Softmax</text>\n</g>\n<!-- /outputs/31&#45;&gt;/outputs/32 -->\n<g id=\"edge7\" class=\"edge\">\n<title>/outputs/31&#45;&gt;/outputs/32</title>\n<path fill=\"none\" stroke=\"#000000\" d=\"M774.1,-18C789.57,-18 809.43,-18 826.44,-18\"/>\n<polygon fill=\"#000000\" stroke=\"#000000\" points=\"826.61,-21.5 836.61,-18 826.61,-14.5 826.61,-21.5\"/>\n<text text-anchor=\"middle\" x=\"805.5\" y=\"-21\" font-family=\"Times\" font-size=\"10.00\" fill=\"#000000\">64x10</text>\n</g>\n</g>\n</svg>\n"
     },
     "metadata": {},
     "execution_count": 5
    }
   ],
   "source": [
    "import hiddenlayer as hl\n",
    "hl.build_graph(model, torch.zeros([64, 784]))"
   ]
  },
  {
   "cell_type": "code",
   "execution_count": 6,
   "metadata": {},
   "outputs": [
    {
     "output_type": "execute_result",
     "data": {
      "text/plain": "<tensorwatch.model_graph.hiddenlayer.pytorch_draw_model.DotWrapper at 0x14d5fd1d0>",
      "image/svg+xml": "<?xml version=\"1.0\" encoding=\"UTF-8\" standalone=\"no\"?>\n<!DOCTYPE svg PUBLIC \"-//W3C//DTD SVG 1.1//EN\"\n \"http://www.w3.org/Graphics/SVG/1.1/DTD/svg11.dtd\">\n<!-- Generated by graphviz version 2.44.0 (20200408.0750)\n -->\n<!-- Title: Net Pages: 1 -->\n<svg width=\"1269pt\" height=\"298pt\"\n viewBox=\"0.00 0.00 1268.75 298.48\" xmlns=\"http://www.w3.org/2000/svg\" xmlns:xlink=\"http://www.w3.org/1999/xlink\">\n<g id=\"graph0\" class=\"graph\" transform=\"scale(1 1) rotate(0) translate(4 294.48)\">\n<title>Net</title>\n<polygon fill=\"white\" stroke=\"transparent\" points=\"-4,4 -4,-294.48 1264.75,-294.48 1264.75,4 -4,4\"/>\n<!-- top_level_op -->\n<g id=\"node1\" class=\"node\">\n<title>top_level_op</title>\n<path fill=\"#6495ed\" stroke=\"black\" d=\"M20.83,-251.98C20.83,-251.98 83.83,-251.98 83.83,-251.98 89.83,-251.98 95.83,-257.98 95.83,-263.98 95.83,-263.98 95.83,-277.98 95.83,-277.98 95.83,-283.98 89.83,-289.98 83.83,-289.98 83.83,-289.98 20.83,-289.98 20.83,-289.98 14.83,-289.98 8.83,-283.98 8.83,-277.98 8.83,-277.98 8.83,-263.98 8.83,-263.98 8.83,-257.98 14.83,-251.98 20.83,-251.98\"/>\n<text text-anchor=\"middle\" x=\"52.33\" y=\"-274.78\" font-family=\"Times,serif\" font-size=\"14.00\">top_level_op</text>\n<text text-anchor=\"middle\" x=\"52.33\" y=\"-259.78\" font-family=\"Times,serif\" font-size=\"14.00\">aten::t</text>\n</g>\n<!-- 51 -->\n<g id=\"node6\" class=\"node\">\n<title>51</title>\n<ellipse fill=\"none\" stroke=\"black\" cx=\"52.33\" cy=\"-188.61\" rx=\"52.15\" ry=\"26.74\"/>\n<text text-anchor=\"middle\" x=\"52.33\" y=\"-192.41\" font-family=\"Times,serif\" font-size=\"14.00\">100352</text>\n<text text-anchor=\"middle\" x=\"52.33\" y=\"-177.41\" font-family=\"Times,serif\" font-size=\"14.00\">(784, 128)</text>\n</g>\n<!-- top_level_op&#45;&gt;51 -->\n<g id=\"edge1\" class=\"edge\">\n<title>top_level_op&#45;&gt;51</title>\n<path fill=\"none\" stroke=\"black\" d=\"M52.33,-251.74C52.33,-244.09 52.33,-234.9 52.33,-225.96\"/>\n<polygon fill=\"black\" stroke=\"black\" points=\"55.83,-225.7 52.33,-215.7 48.83,-225.7 55.83,-225.7\"/>\n</g>\n<!-- top_level_op_prim -->\n<g id=\"node2\" class=\"node\">\n<title>top_level_op_prim</title>\n<path fill=\"#6495ed\" stroke=\"black\" d=\"M800.33,-251.98C800.33,-251.98 972.33,-251.98 972.33,-251.98 978.33,-251.98 984.33,-257.98 984.33,-263.98 984.33,-263.98 984.33,-277.98 984.33,-277.98 984.33,-283.98 978.33,-289.98 972.33,-289.98 972.33,-289.98 800.33,-289.98 800.33,-289.98 794.33,-289.98 788.33,-283.98 788.33,-277.98 788.33,-277.98 788.33,-263.98 788.33,-263.98 788.33,-257.98 794.33,-251.98 800.33,-251.98\"/>\n<text text-anchor=\"middle\" x=\"886.33\" y=\"-274.78\" font-family=\"Times,serif\" font-size=\"14.00\">top_level_op_prim::Constant_25</text>\n<text text-anchor=\"middle\" x=\"886.33\" y=\"-259.78\" font-family=\"Times,serif\" font-size=\"14.00\">prim::Constant</text>\n</g>\n<!-- top_level_op_aten -->\n<g id=\"node3\" class=\"node\">\n<title>top_level_op_aten</title>\n<path fill=\"#6495ed\" stroke=\"black\" d=\"M1014.33,-251.98C1014.33,-251.98 1178.33,-251.98 1178.33,-251.98 1184.33,-251.98 1190.33,-257.98 1190.33,-263.98 1190.33,-263.98 1190.33,-277.98 1190.33,-277.98 1190.33,-283.98 1184.33,-289.98 1178.33,-289.98 1178.33,-289.98 1014.33,-289.98 1014.33,-289.98 1008.33,-289.98 1002.33,-283.98 1002.33,-277.98 1002.33,-277.98 1002.33,-263.98 1002.33,-263.98 1002.33,-257.98 1008.33,-251.98 1014.33,-251.98\"/>\n<text text-anchor=\"middle\" x=\"1096.33\" y=\"-274.78\" font-family=\"Times,serif\" font-size=\"14.00\">top_level_op_aten::softmax_26</text>\n<text text-anchor=\"middle\" x=\"1096.33\" y=\"-259.78\" font-family=\"Times,serif\" font-size=\"14.00\">aten::softmax</text>\n</g>\n<!-- logits -->\n<g id=\"node4\" class=\"node\">\n<title>logits</title>\n<ellipse fill=\"none\" stroke=\"black\" cx=\"201.33\" cy=\"-26.87\" rx=\"42.35\" ry=\"26.74\"/>\n<text text-anchor=\"middle\" x=\"201.33\" y=\"-30.67\" font-family=\"Times,serif\" font-size=\"14.00\">640</text>\n<text text-anchor=\"middle\" x=\"201.33\" y=\"-15.67\" font-family=\"Times,serif\" font-size=\"14.00\">(64, 10)</text>\n</g>\n<!-- top_level_op_aten: -->\n<g id=\"node32\" class=\"node\">\n<title>top_level_op_aten:</title>\n<ellipse fill=\"none\" stroke=\"black\" cx=\"653.33\" cy=\"-107.74\" rx=\"77.99\" ry=\"18\"/>\n<text text-anchor=\"middle\" x=\"653.33\" y=\"-104.04\" font-family=\"Times,serif\" font-size=\"14.00\">top_level_op_aten:</text>\n</g>\n<!-- logits&#45;&gt;top_level_op_aten: -->\n<g id=\"edge50\" class=\"edge\">\n<title>logits&#45;&gt;top_level_op_aten::softmax_26</title>\n<path fill=\"none\" stroke=\"black\" d=\"M235.67,-42.78C244.24,-46.92 253.45,-51.03 262.33,-53.74 364.47,-84.97 486.84,-97.8 567.21,-103.07\"/>\n<polygon fill=\"black\" stroke=\"black\" points=\"567.08,-106.57 577.28,-103.7 567.52,-99.58 567.08,-106.57\"/>\n</g>\n<!-- 77 -->\n<g id=\"node5\" class=\"node\">\n<title>77</title>\n<ellipse fill=\"none\" stroke=\"black\" cx=\"1218.33\" cy=\"-26.87\" rx=\"42.35\" ry=\"26.74\"/>\n<text text-anchor=\"middle\" x=\"1218.33\" y=\"-30.67\" font-family=\"Times,serif\" font-size=\"14.00\">640</text>\n<text text-anchor=\"middle\" x=\"1218.33\" y=\"-15.67\" font-family=\"Times,serif\" font-size=\"14.00\">(64, 10)</text>\n</g>\n<!-- 51&#45;&gt;top_level_op_aten: -->\n<g id=\"edge4\" class=\"edge\">\n<title>51&#45;&gt;top_level_op_aten::addmm_3</title>\n<path fill=\"none\" stroke=\"black\" d=\"M89.78,-169.63C97.43,-166.56 105.52,-163.73 113.33,-161.74 268.97,-122.09 456.82,-111.74 564.94,-109.26\"/>\n<polygon fill=\"black\" stroke=\"black\" points=\"565.23,-112.75 575.15,-109.04 565.08,-105.75 565.23,-112.75\"/>\n</g>\n<!-- 79 -->\n<g id=\"node7\" class=\"node\">\n<title>79</title>\n<ellipse fill=\"none\" stroke=\"black\" cx=\"149.33\" cy=\"-188.61\" rx=\"27\" ry=\"26.74\"/>\n<text text-anchor=\"middle\" x=\"149.33\" y=\"-192.41\" font-family=\"Times,serif\" font-size=\"14.00\">0</text>\n<text text-anchor=\"middle\" x=\"149.33\" y=\"-177.41\" font-family=\"Times,serif\" font-size=\"14.00\">(0,)</text>\n</g>\n<!-- 79&#45;&gt;top_level_op_aten: -->\n<g id=\"edge5\" class=\"edge\">\n<title>79&#45;&gt;top_level_op_aten::addmm_3</title>\n<path fill=\"none\" stroke=\"black\" d=\"M169.6,-170.35C174.48,-166.98 179.87,-163.84 185.33,-161.74 253.09,-135.62 452.15,-120.23 567.67,-113.25\"/>\n<polygon fill=\"black\" stroke=\"black\" points=\"568.12,-116.73 577.89,-112.65 567.7,-109.75 568.12,-116.73\"/>\n</g>\n<!-- 80 -->\n<g id=\"node8\" class=\"node\">\n<title>80</title>\n<ellipse fill=\"none\" stroke=\"black\" cx=\"221.33\" cy=\"-188.61\" rx=\"27\" ry=\"26.74\"/>\n<text text-anchor=\"middle\" x=\"221.33\" y=\"-192.41\" font-family=\"Times,serif\" font-size=\"14.00\">0</text>\n<text text-anchor=\"middle\" x=\"221.33\" y=\"-177.41\" font-family=\"Times,serif\" font-size=\"14.00\">(0,)</text>\n</g>\n<!-- 80&#45;&gt;top_level_op_aten: -->\n<g id=\"edge6\" class=\"edge\">\n<title>80&#45;&gt;top_level_op_aten::addmm_3</title>\n<path fill=\"none\" stroke=\"black\" d=\"M241.63,-170.43C246.51,-167.06 251.89,-163.9 257.33,-161.74 357.73,-121.86 482.55,-110.89 564.9,-108.41\"/>\n<polygon fill=\"black\" stroke=\"black\" points=\"565.08,-111.91 574.98,-108.14 564.89,-104.91 565.08,-111.91\"/>\n</g>\n<!-- input.2 -->\n<g id=\"node9\" class=\"node\">\n<title>input.2</title>\n<ellipse fill=\"none\" stroke=\"black\" cx=\"309.33\" cy=\"-26.87\" rx=\"47.25\" ry=\"26.74\"/>\n<text text-anchor=\"middle\" x=\"309.33\" y=\"-30.67\" font-family=\"Times,serif\" font-size=\"14.00\">8192</text>\n<text text-anchor=\"middle\" x=\"309.33\" y=\"-15.67\" font-family=\"Times,serif\" font-size=\"14.00\">(64, 128)</text>\n</g>\n<!-- input.2&#45;&gt;top_level_op_aten: -->\n<g id=\"edge12\" class=\"edge\">\n<title>input.2&#45;&gt;top_level_op_aten::batch_norm_8</title>\n<path fill=\"none\" stroke=\"black\" d=\"M347.6,-42.97C356.62,-46.92 366.2,-50.87 375.33,-53.74 442.25,-74.76 520.72,-88.54 577.26,-96.77\"/>\n<polygon fill=\"black\" stroke=\"black\" points=\"576.8,-100.24 587.19,-98.2 577.79,-93.31 576.8,-100.24\"/>\n</g>\n<!-- 81 -->\n<g id=\"node10\" class=\"node\">\n<title>81</title>\n<ellipse fill=\"none\" stroke=\"black\" cx=\"293.33\" cy=\"-188.61\" rx=\"27\" ry=\"26.74\"/>\n<text text-anchor=\"middle\" x=\"293.33\" y=\"-192.41\" font-family=\"Times,serif\" font-size=\"14.00\">0</text>\n<text text-anchor=\"middle\" x=\"293.33\" y=\"-177.41\" font-family=\"Times,serif\" font-size=\"14.00\">(0,)</text>\n</g>\n<!-- 81&#45;&gt;top_level_op_aten: -->\n<g id=\"edge13\" class=\"edge\">\n<title>81&#45;&gt;top_level_op_aten::batch_norm_8</title>\n<path fill=\"none\" stroke=\"black\" d=\"M313.68,-170.55C318.55,-167.17 323.92,-163.98 329.33,-161.74 405.71,-130.11 499.56,-117.31 566.55,-112.15\"/>\n<polygon fill=\"black\" stroke=\"black\" points=\"566.93,-115.63 576.65,-111.42 566.42,-108.65 566.93,-115.63\"/>\n</g>\n<!-- 82 -->\n<g id=\"node11\" class=\"node\">\n<title>82</title>\n<ellipse fill=\"none\" stroke=\"black\" cx=\"365.33\" cy=\"-188.61\" rx=\"27\" ry=\"26.74\"/>\n<text text-anchor=\"middle\" x=\"365.33\" y=\"-192.41\" font-family=\"Times,serif\" font-size=\"14.00\">0</text>\n<text text-anchor=\"middle\" x=\"365.33\" y=\"-177.41\" font-family=\"Times,serif\" font-size=\"14.00\">(0,)</text>\n</g>\n<!-- 82&#45;&gt;top_level_op_aten: -->\n<g id=\"edge14\" class=\"edge\">\n<title>82&#45;&gt;top_level_op_aten::batch_norm_8</title>\n<path fill=\"none\" stroke=\"black\" d=\"M385.75,-170.73C390.63,-167.34 395.97,-164.1 401.33,-161.74 455.98,-137.65 522.22,-124.27 573.06,-116.98\"/>\n<polygon fill=\"black\" stroke=\"black\" points=\"573.6,-120.44 583.02,-115.6 572.64,-113.51 573.6,-120.44\"/>\n</g>\n<!-- 83 -->\n<g id=\"node12\" class=\"node\">\n<title>83</title>\n<ellipse fill=\"none\" stroke=\"black\" cx=\"437.33\" cy=\"-188.61\" rx=\"27\" ry=\"26.74\"/>\n<text text-anchor=\"middle\" x=\"437.33\" y=\"-192.41\" font-family=\"Times,serif\" font-size=\"14.00\">0</text>\n<text text-anchor=\"middle\" x=\"437.33\" y=\"-177.41\" font-family=\"Times,serif\" font-size=\"14.00\">(0,)</text>\n</g>\n<!-- 83&#45;&gt;top_level_op_aten: -->\n<g id=\"edge15\" class=\"edge\">\n<title>83&#45;&gt;top_level_op_aten::batch_norm_8</title>\n<path fill=\"none\" stroke=\"black\" d=\"M457.9,-171.04C462.76,-167.63 468.07,-164.31 473.33,-161.74 509.15,-144.22 551.87,-131.34 586.71,-122.67\"/>\n<polygon fill=\"black\" stroke=\"black\" points=\"587.88,-125.98 596.78,-120.22 586.23,-119.18 587.88,-125.98\"/>\n</g>\n<!-- 84 -->\n<g id=\"node13\" class=\"node\">\n<title>84</title>\n<ellipse fill=\"none\" stroke=\"black\" cx=\"509.33\" cy=\"-188.61\" rx=\"27\" ry=\"26.74\"/>\n<text text-anchor=\"middle\" x=\"509.33\" y=\"-192.41\" font-family=\"Times,serif\" font-size=\"14.00\">0</text>\n<text text-anchor=\"middle\" x=\"509.33\" y=\"-177.41\" font-family=\"Times,serif\" font-size=\"14.00\">(0,)</text>\n</g>\n<!-- 84&#45;&gt;top_level_op_aten: -->\n<g id=\"edge16\" class=\"edge\">\n<title>84&#45;&gt;top_level_op_aten::batch_norm_8</title>\n<path fill=\"none\" stroke=\"black\" d=\"M530.63,-171.41C535.37,-168.06 540.44,-164.67 545.33,-161.74 565.74,-149.51 589.38,-137.67 609.33,-128.29\"/>\n<polygon fill=\"black\" stroke=\"black\" points=\"610.91,-131.42 618.5,-124.03 607.96,-125.07 610.91,-131.42\"/>\n</g>\n<!-- out.1 -->\n<g id=\"node14\" class=\"node\">\n<title>out.1</title>\n<ellipse fill=\"none\" stroke=\"black\" cx=\"422.33\" cy=\"-26.87\" rx=\"47.25\" ry=\"26.74\"/>\n<text text-anchor=\"middle\" x=\"422.33\" y=\"-30.67\" font-family=\"Times,serif\" font-size=\"14.00\">8192</text>\n<text text-anchor=\"middle\" x=\"422.33\" y=\"-15.67\" font-family=\"Times,serif\" font-size=\"14.00\">(64, 128)</text>\n</g>\n<!-- out.1&#45;&gt;top_level_op_aten: -->\n<g id=\"edge18\" class=\"edge\">\n<title>out.1&#45;&gt;top_level_op_aten::relu_9</title>\n<path fill=\"none\" stroke=\"black\" d=\"M461.13,-42.44C470.06,-46.34 479.48,-50.4 488.33,-53.74 524.87,-67.53 566.73,-80.37 599.21,-89.96\"/>\n<polygon fill=\"black\" stroke=\"black\" points=\"598.4,-93.36 608.98,-92.82 600.37,-86.65 598.4,-93.36\"/>\n</g>\n<!-- input.3 -->\n<g id=\"node15\" class=\"node\">\n<title>input.3</title>\n<ellipse fill=\"none\" stroke=\"black\" cx=\"535.33\" cy=\"-26.87\" rx=\"47.25\" ry=\"26.74\"/>\n<text text-anchor=\"middle\" x=\"535.33\" y=\"-30.67\" font-family=\"Times,serif\" font-size=\"14.00\">8192</text>\n<text text-anchor=\"middle\" x=\"535.33\" y=\"-15.67\" font-family=\"Times,serif\" font-size=\"14.00\">(64, 128)</text>\n</g>\n<!-- input.3&#45;&gt;top_level_op_aten: -->\n<g id=\"edge23\" class=\"edge\">\n<title>input.3&#45;&gt;top_level_op_aten::addmm_13</title>\n<path fill=\"none\" stroke=\"black\" d=\"M568.74,-46.31C586.78,-57.63 608.7,-72.2 625.77,-84.2\"/>\n<polygon fill=\"black\" stroke=\"black\" points=\"624.03,-87.26 634.2,-90.21 628.09,-81.55 624.03,-87.26\"/>\n</g>\n<!-- 61 -->\n<g id=\"node16\" class=\"node\">\n<title>61</title>\n<ellipse fill=\"none\" stroke=\"black\" cx=\"653.33\" cy=\"-26.87\" rx=\"52.15\" ry=\"26.74\"/>\n<text text-anchor=\"middle\" x=\"653.33\" y=\"-30.67\" font-family=\"Times,serif\" font-size=\"14.00\">32768</text>\n<text text-anchor=\"middle\" x=\"653.33\" y=\"-15.67\" font-family=\"Times,serif\" font-size=\"14.00\">(128, 256)</text>\n</g>\n<!-- 61&#45;&gt;top_level_op_aten: -->\n<g id=\"edge24\" class=\"edge\">\n<title>61&#45;&gt;top_level_op_aten::addmm_13</title>\n<path fill=\"none\" stroke=\"black\" d=\"M659.7,-53.65C660.17,-61.95 660.2,-71.17 659.78,-79.56\"/>\n<polygon fill=\"black\" stroke=\"black\" points=\"656.28,-79.39 659,-89.63 663.26,-79.92 656.28,-79.39\"/>\n</g>\n<!-- 85 -->\n<g id=\"node17\" class=\"node\">\n<title>85</title>\n<ellipse fill=\"none\" stroke=\"black\" cx=\"581.33\" cy=\"-188.61\" rx=\"27\" ry=\"26.74\"/>\n<text text-anchor=\"middle\" x=\"581.33\" y=\"-192.41\" font-family=\"Times,serif\" font-size=\"14.00\">0</text>\n<text text-anchor=\"middle\" x=\"581.33\" y=\"-177.41\" font-family=\"Times,serif\" font-size=\"14.00\">(0,)</text>\n</g>\n<!-- 85&#45;&gt;top_level_op_aten: -->\n<g id=\"edge25\" class=\"edge\">\n<title>85&#45;&gt;top_level_op_aten::addmm_13</title>\n<path fill=\"none\" stroke=\"black\" d=\"M599.12,-168.11C608.8,-157.51 620.86,-144.31 631.14,-133.04\"/>\n<polygon fill=\"black\" stroke=\"black\" points=\"633.77,-135.35 637.93,-125.61 628.6,-130.63 633.77,-135.35\"/>\n</g>\n<!-- 86 -->\n<g id=\"node18\" class=\"node\">\n<title>86</title>\n<ellipse fill=\"none\" stroke=\"black\" cx=\"653.33\" cy=\"-188.61\" rx=\"27\" ry=\"26.74\"/>\n<text text-anchor=\"middle\" x=\"653.33\" y=\"-192.41\" font-family=\"Times,serif\" font-size=\"14.00\">0</text>\n<text text-anchor=\"middle\" x=\"653.33\" y=\"-177.41\" font-family=\"Times,serif\" font-size=\"14.00\">(0,)</text>\n</g>\n<!-- 86&#45;&gt;top_level_op_aten: -->\n<g id=\"edge26\" class=\"edge\">\n<title>86&#45;&gt;top_level_op_aten::addmm_13</title>\n<path fill=\"none\" stroke=\"black\" d=\"M653.33,-161.35C653.33,-153.25 653.33,-144.31 653.33,-136.13\"/>\n<polygon fill=\"black\" stroke=\"black\" points=\"656.83,-135.96 653.33,-125.96 649.83,-135.96 656.83,-135.96\"/>\n</g>\n<!-- input.4 -->\n<g id=\"node19\" class=\"node\">\n<title>input.4</title>\n<ellipse fill=\"none\" stroke=\"black\" cx=\"771.33\" cy=\"-26.87\" rx=\"47.25\" ry=\"26.74\"/>\n<text text-anchor=\"middle\" x=\"771.33\" y=\"-30.67\" font-family=\"Times,serif\" font-size=\"14.00\">16384</text>\n<text text-anchor=\"middle\" x=\"771.33\" y=\"-15.67\" font-family=\"Times,serif\" font-size=\"14.00\">(64, 256)</text>\n</g>\n<!-- input.4&#45;&gt;top_level_op_aten: -->\n<g id=\"edge32\" class=\"edge\">\n<title>input.4&#45;&gt;top_level_op_aten::batch_norm_18</title>\n<path fill=\"none\" stroke=\"black\" d=\"M744.94,-49.59C729.11,-60.75 708.82,-74.3 691.31,-85.41\"/>\n<polygon fill=\"black\" stroke=\"black\" points=\"689.06,-82.69 682.45,-90.97 692.78,-88.62 689.06,-82.69\"/>\n</g>\n<!-- 87 -->\n<g id=\"node20\" class=\"node\">\n<title>87</title>\n<ellipse fill=\"none\" stroke=\"black\" cx=\"725.33\" cy=\"-188.61\" rx=\"27\" ry=\"26.74\"/>\n<text text-anchor=\"middle\" x=\"725.33\" y=\"-192.41\" font-family=\"Times,serif\" font-size=\"14.00\">0</text>\n<text text-anchor=\"middle\" x=\"725.33\" y=\"-177.41\" font-family=\"Times,serif\" font-size=\"14.00\">(0,)</text>\n</g>\n<!-- 87&#45;&gt;top_level_op_aten: -->\n<g id=\"edge33\" class=\"edge\">\n<title>87&#45;&gt;top_level_op_aten::batch_norm_18</title>\n<path fill=\"none\" stroke=\"black\" d=\"M707.53,-168.11C697.85,-157.51 685.79,-144.31 675.51,-133.04\"/>\n<polygon fill=\"black\" stroke=\"black\" points=\"678.05,-130.63 668.72,-125.61 672.88,-135.35 678.05,-130.63\"/>\n</g>\n<!-- 88 -->\n<g id=\"node21\" class=\"node\">\n<title>88</title>\n<ellipse fill=\"none\" stroke=\"black\" cx=\"797.33\" cy=\"-188.61\" rx=\"27\" ry=\"26.74\"/>\n<text text-anchor=\"middle\" x=\"797.33\" y=\"-192.41\" font-family=\"Times,serif\" font-size=\"14.00\">0</text>\n<text text-anchor=\"middle\" x=\"797.33\" y=\"-177.41\" font-family=\"Times,serif\" font-size=\"14.00\">(0,)</text>\n</g>\n<!-- 88&#45;&gt;top_level_op_aten: -->\n<g id=\"edge34\" class=\"edge\">\n<title>88&#45;&gt;top_level_op_aten::batch_norm_18</title>\n<path fill=\"none\" stroke=\"black\" d=\"M776.02,-171.41C771.28,-168.06 766.21,-164.67 761.33,-161.74 740.91,-149.51 717.27,-137.67 697.32,-128.29\"/>\n<polygon fill=\"black\" stroke=\"black\" points=\"698.69,-125.07 688.15,-124.03 695.74,-131.42 698.69,-125.07\"/>\n</g>\n<!-- 89 -->\n<g id=\"node22\" class=\"node\">\n<title>89</title>\n<ellipse fill=\"none\" stroke=\"black\" cx=\"869.33\" cy=\"-188.61\" rx=\"27\" ry=\"26.74\"/>\n<text text-anchor=\"middle\" x=\"869.33\" y=\"-192.41\" font-family=\"Times,serif\" font-size=\"14.00\">0</text>\n<text text-anchor=\"middle\" x=\"869.33\" y=\"-177.41\" font-family=\"Times,serif\" font-size=\"14.00\">(0,)</text>\n</g>\n<!-- 89&#45;&gt;top_level_op_aten: -->\n<g id=\"edge35\" class=\"edge\">\n<title>89&#45;&gt;top_level_op_aten::batch_norm_18</title>\n<path fill=\"none\" stroke=\"black\" d=\"M848.75,-171.04C843.89,-167.63 838.58,-164.31 833.33,-161.74 797.5,-144.22 754.78,-131.34 719.95,-122.67\"/>\n<polygon fill=\"black\" stroke=\"black\" points=\"720.42,-119.18 709.88,-120.22 718.77,-125.98 720.42,-119.18\"/>\n</g>\n<!-- 90 -->\n<g id=\"node23\" class=\"node\">\n<title>90</title>\n<ellipse fill=\"none\" stroke=\"black\" cx=\"941.33\" cy=\"-188.61\" rx=\"27\" ry=\"26.74\"/>\n<text text-anchor=\"middle\" x=\"941.33\" y=\"-192.41\" font-family=\"Times,serif\" font-size=\"14.00\">0</text>\n<text text-anchor=\"middle\" x=\"941.33\" y=\"-177.41\" font-family=\"Times,serif\" font-size=\"14.00\">(0,)</text>\n</g>\n<!-- 90&#45;&gt;top_level_op_aten: -->\n<g id=\"edge36\" class=\"edge\">\n<title>90&#45;&gt;top_level_op_aten::batch_norm_18</title>\n<path fill=\"none\" stroke=\"black\" d=\"M920.9,-170.73C916.03,-167.34 910.68,-164.1 905.33,-161.74 850.67,-137.65 784.44,-124.27 733.59,-116.98\"/>\n<polygon fill=\"black\" stroke=\"black\" points=\"734.02,-113.51 723.63,-115.6 733.06,-120.44 734.02,-113.51\"/>\n</g>\n<!-- out -->\n<g id=\"node24\" class=\"node\">\n<title>out</title>\n<ellipse fill=\"none\" stroke=\"black\" cx=\"884.33\" cy=\"-26.87\" rx=\"47.25\" ry=\"26.74\"/>\n<text text-anchor=\"middle\" x=\"884.33\" y=\"-30.67\" font-family=\"Times,serif\" font-size=\"14.00\">16384</text>\n<text text-anchor=\"middle\" x=\"884.33\" y=\"-15.67\" font-family=\"Times,serif\" font-size=\"14.00\">(64, 256)</text>\n</g>\n<!-- out&#45;&gt;top_level_op_aten: -->\n<g id=\"edge38\" class=\"edge\">\n<title>out&#45;&gt;top_level_op_aten::relu_19</title>\n<path fill=\"none\" stroke=\"black\" d=\"M852.73,-47.04C847.32,-49.41 841.71,-51.71 836.33,-53.74 797.3,-68.47 752.23,-82.11 716.5,-91.86\"/>\n<polygon fill=\"black\" stroke=\"black\" points=\"715.43,-88.52 706.68,-94.5 717.25,-95.28 715.43,-88.52\"/>\n</g>\n<!-- input -->\n<g id=\"node25\" class=\"node\">\n<title>input</title>\n<ellipse fill=\"none\" stroke=\"black\" cx=\"997.33\" cy=\"-26.87\" rx=\"47.25\" ry=\"26.74\"/>\n<text text-anchor=\"middle\" x=\"997.33\" y=\"-30.67\" font-family=\"Times,serif\" font-size=\"14.00\">16384</text>\n<text text-anchor=\"middle\" x=\"997.33\" y=\"-15.67\" font-family=\"Times,serif\" font-size=\"14.00\">(64, 256)</text>\n</g>\n<!-- input&#45;&gt;top_level_op_aten: -->\n<g id=\"edge43\" class=\"edge\">\n<title>input&#45;&gt;top_level_op_aten::addmm_23</title>\n<path fill=\"none\" stroke=\"black\" d=\"M966.55,-47.36C960.91,-49.73 955.03,-51.95 949.33,-53.74 878.15,-76.1 793.92,-90.27 733.47,-98.27\"/>\n<polygon fill=\"black\" stroke=\"black\" points=\"732.69,-94.85 723.23,-99.6 733.59,-101.79 732.69,-94.85\"/>\n</g>\n<!-- 71 -->\n<g id=\"node26\" class=\"node\">\n<title>71</title>\n<ellipse fill=\"none\" stroke=\"black\" cx=\"1110.33\" cy=\"-26.87\" rx=\"47.25\" ry=\"26.74\"/>\n<text text-anchor=\"middle\" x=\"1110.33\" y=\"-30.67\" font-family=\"Times,serif\" font-size=\"14.00\">2560</text>\n<text text-anchor=\"middle\" x=\"1110.33\" y=\"-15.67\" font-family=\"Times,serif\" font-size=\"14.00\">(256, 10)</text>\n</g>\n<!-- 71&#45;&gt;top_level_op_aten: -->\n<g id=\"edge44\" class=\"edge\">\n<title>71&#45;&gt;top_level_op_aten::addmm_23</title>\n<path fill=\"none\" stroke=\"black\" d=\"M1079.93,-47.5C1074.19,-49.88 1068.18,-52.06 1062.33,-53.74 953.93,-84.78 823.71,-97.74 739.73,-103.08\"/>\n<polygon fill=\"black\" stroke=\"black\" points=\"739.49,-99.59 729.72,-103.7 739.92,-106.58 739.49,-99.59\"/>\n</g>\n<!-- 91 -->\n<g id=\"node27\" class=\"node\">\n<title>91</title>\n<ellipse fill=\"none\" stroke=\"black\" cx=\"1013.33\" cy=\"-188.61\" rx=\"27\" ry=\"26.74\"/>\n<text text-anchor=\"middle\" x=\"1013.33\" y=\"-192.41\" font-family=\"Times,serif\" font-size=\"14.00\">0</text>\n<text text-anchor=\"middle\" x=\"1013.33\" y=\"-177.41\" font-family=\"Times,serif\" font-size=\"14.00\">(0,)</text>\n</g>\n<!-- 91&#45;&gt;top_level_op_aten: -->\n<g id=\"edge45\" class=\"edge\">\n<title>91&#45;&gt;top_level_op_aten::addmm_23</title>\n<path fill=\"none\" stroke=\"black\" d=\"M992.98,-170.55C988.1,-167.17 982.73,-163.98 977.33,-161.74 900.94,-130.11 807.1,-117.31 740.1,-112.15\"/>\n<polygon fill=\"black\" stroke=\"black\" points=\"740.23,-108.65 730,-111.42 739.72,-115.63 740.23,-108.65\"/>\n</g>\n<!-- 92 -->\n<g id=\"node28\" class=\"node\">\n<title>92</title>\n<ellipse fill=\"none\" stroke=\"black\" cx=\"1085.33\" cy=\"-188.61\" rx=\"27\" ry=\"26.74\"/>\n<text text-anchor=\"middle\" x=\"1085.33\" y=\"-192.41\" font-family=\"Times,serif\" font-size=\"14.00\">0</text>\n<text text-anchor=\"middle\" x=\"1085.33\" y=\"-177.41\" font-family=\"Times,serif\" font-size=\"14.00\">(0,)</text>\n</g>\n<!-- 92&#45;&gt;top_level_op_aten: -->\n<g id=\"edge46\" class=\"edge\">\n<title>92&#45;&gt;top_level_op_aten::addmm_23</title>\n<path fill=\"none\" stroke=\"black\" d=\"M1065.02,-170.43C1060.14,-167.06 1054.76,-163.9 1049.33,-161.74 948.92,-121.86 824.11,-110.89 741.75,-108.41\"/>\n<polygon fill=\"black\" stroke=\"black\" points=\"741.76,-104.91 731.67,-108.14 741.57,-111.91 741.76,-104.91\"/>\n</g>\n<!-- 93 -->\n<g id=\"node29\" class=\"node\">\n<title>93</title>\n<ellipse fill=\"none\" stroke=\"black\" cx=\"1157.33\" cy=\"-188.61\" rx=\"27\" ry=\"26.74\"/>\n<text text-anchor=\"middle\" x=\"1157.33\" y=\"-192.41\" font-family=\"Times,serif\" font-size=\"14.00\">0</text>\n<text text-anchor=\"middle\" x=\"1157.33\" y=\"-177.41\" font-family=\"Times,serif\" font-size=\"14.00\">(0,)</text>\n</g>\n<!-- 93&#45;&gt;top_level_op_aten: -->\n<g id=\"edge51\" class=\"edge\">\n<title>93&#45;&gt;top_level_op_aten::softmax_26</title>\n<path fill=\"none\" stroke=\"black\" d=\"M1137.06,-170.35C1132.17,-166.98 1126.78,-163.84 1121.33,-161.74 1053.56,-135.62 854.5,-120.23 738.98,-113.25\"/>\n<polygon fill=\"black\" stroke=\"black\" points=\"738.95,-109.75 728.76,-112.65 738.53,-116.73 738.95,-109.75\"/>\n</g>\n<!-- 76 -->\n<g id=\"node30\" class=\"node\">\n<title>76</title>\n<ellipse fill=\"none\" stroke=\"black\" cx=\"1229.33\" cy=\"-188.61\" rx=\"27\" ry=\"26.74\"/>\n<text text-anchor=\"middle\" x=\"1229.33\" y=\"-192.41\" font-family=\"Times,serif\" font-size=\"14.00\">0</text>\n<text text-anchor=\"middle\" x=\"1229.33\" y=\"-177.41\" font-family=\"Times,serif\" font-size=\"14.00\">(0,)</text>\n</g>\n<!-- 76&#45;&gt;top_level_op_aten: -->\n<g id=\"edge52\" class=\"edge\">\n<title>76&#45;&gt;top_level_op_aten::softmax_26</title>\n<path fill=\"none\" stroke=\"black\" d=\"M1209.08,-170.29C1204.2,-166.92 1198.8,-163.8 1193.33,-161.74 1112.57,-131.3 870.79,-117.28 739.85,-111.77\"/>\n<polygon fill=\"black\" stroke=\"black\" points=\"739.98,-108.28 729.85,-111.36 739.7,-115.27 739.98,-108.28\"/>\n</g>\n<!-- top_level_op_prim: -->\n<g id=\"node31\" class=\"node\">\n<title>top_level_op_prim:</title>\n<ellipse fill=\"none\" stroke=\"black\" cx=\"689.33\" cy=\"-270.98\" rx=\"80.69\" ry=\"18\"/>\n<text text-anchor=\"middle\" x=\"689.33\" y=\"-267.28\" font-family=\"Times,serif\" font-size=\"14.00\">top_level_op_prim:</text>\n</g>\n<!-- top_level_op_prim:&#45;&gt;79 -->\n<g id=\"edge2\" class=\"edge\">\n<title>top_level_op_prim::Constant_1&#45;&gt;79</title>\n<path fill=\"none\" stroke=\"black\" d=\"M611.09,-266.39C489.47,-259.99 261.15,-244.49 185.33,-215.48 182.94,-214.57 180.56,-213.45 178.23,-212.21\"/>\n<polygon fill=\"black\" stroke=\"black\" points=\"179.94,-209.15 169.59,-206.89 176.28,-215.11 179.94,-209.15\"/>\n</g>\n<!-- top_level_op_prim:&#45;&gt;80 -->\n<g id=\"edge3\" class=\"edge\">\n<title>top_level_op_prim::Constant_2&#45;&gt;80</title>\n<path fill=\"none\" stroke=\"black\" d=\"M613.12,-264.9C506.94,-257.05 320.39,-240.25 257.33,-215.48 254.94,-214.54 252.57,-213.42 250.25,-212.16\"/>\n<polygon fill=\"black\" stroke=\"black\" points=\"251.96,-209.1 241.62,-206.82 248.28,-215.06 251.96,-209.1\"/>\n</g>\n<!-- top_level_op_prim:&#45;&gt;81 -->\n<g id=\"edge8\" class=\"edge\">\n<title>top_level_op_prim::Constant_4&#45;&gt;81</title>\n<path fill=\"none\" stroke=\"black\" d=\"M609.25,-268.55C534.36,-264.77 420.66,-252.67 329.33,-215.48 326.96,-214.52 324.59,-213.36 322.28,-212.09\"/>\n<polygon fill=\"black\" stroke=\"black\" points=\"324,-209.04 313.66,-206.72 320.29,-214.98 324,-209.04\"/>\n</g>\n<!-- top_level_op_prim:&#45;&gt;82 -->\n<g id=\"edge9\" class=\"edge\">\n<title>top_level_op_prim::Constant_5&#45;&gt;82</title>\n<path fill=\"none\" stroke=\"black\" d=\"M613.63,-264.69C553.97,-258.41 469.73,-244.81 401.33,-215.48 398.97,-214.47 396.63,-213.29 394.32,-211.99\"/>\n<polygon fill=\"black\" stroke=\"black\" points=\"396.04,-208.94 385.72,-206.58 392.31,-214.87 396.04,-208.94\"/>\n</g>\n<!-- top_level_op_prim:&#45;&gt;83 -->\n<g id=\"edge10\" class=\"edge\">\n<title>top_level_op_prim::Constant_6&#45;&gt;83</title>\n<path fill=\"none\" stroke=\"black\" d=\"M624.33,-260.17C580.28,-251.96 521.55,-237.9 473.33,-215.48 471.01,-214.4 468.68,-213.17 466.39,-211.83\"/>\n<polygon fill=\"black\" stroke=\"black\" points=\"468.13,-208.79 457.82,-206.34 464.35,-214.68 468.13,-208.79\"/>\n</g>\n<!-- top_level_op_prim:&#45;&gt;84 -->\n<g id=\"edge11\" class=\"edge\">\n<title>top_level_op_prim::Constant_7&#45;&gt;84</title>\n<path fill=\"none\" stroke=\"black\" d=\"M643.56,-256.08C614.58,-246.45 576.77,-232.35 545.33,-215.48 543.07,-214.27 540.79,-212.94 538.54,-211.54\"/>\n<polygon fill=\"black\" stroke=\"black\" points=\"540.31,-208.51 530.05,-205.89 536.44,-214.34 540.31,-208.51\"/>\n</g>\n<!-- top_level_op_prim:&#45;&gt;85 -->\n<g id=\"edge21\" class=\"edge\">\n<title>top_level_op_prim::Constant_11&#45;&gt;85</title>\n<path fill=\"none\" stroke=\"black\" d=\"M667.21,-253.52C650.98,-241.45 628.77,-224.91 611,-211.69\"/>\n<polygon fill=\"black\" stroke=\"black\" points=\"612.79,-208.66 602.68,-205.5 608.61,-214.28 612.79,-208.66\"/>\n</g>\n<!-- top_level_op_prim:&#45;&gt;86 -->\n<g id=\"edge22\" class=\"edge\">\n<title>top_level_op_prim::Constant_12&#45;&gt;86</title>\n<path fill=\"none\" stroke=\"black\" d=\"M681.69,-252.94C677.74,-244.12 672.78,-233.04 668.12,-222.63\"/>\n<polygon fill=\"black\" stroke=\"black\" points=\"671.24,-221.03 663.95,-213.34 664.85,-223.89 671.24,-221.03\"/>\n</g>\n<!-- top_level_op_prim:&#45;&gt;87 -->\n<g id=\"edge28\" class=\"edge\">\n<title>top_level_op_prim::Constant_14&#45;&gt;87</title>\n<path fill=\"none\" stroke=\"black\" d=\"M696.96,-252.94C700.91,-244.12 705.87,-233.04 710.54,-222.63\"/>\n<polygon fill=\"black\" stroke=\"black\" points=\"713.8,-223.89 714.7,-213.34 707.42,-221.03 713.8,-223.89\"/>\n</g>\n<!-- top_level_op_prim:&#45;&gt;88 -->\n<g id=\"edge29\" class=\"edge\">\n<title>top_level_op_prim::Constant_15&#45;&gt;88</title>\n<path fill=\"none\" stroke=\"black\" d=\"M711.44,-253.52C727.67,-241.45 749.88,-224.91 767.65,-211.69\"/>\n<polygon fill=\"black\" stroke=\"black\" points=\"770.04,-214.28 775.98,-205.5 765.86,-208.66 770.04,-214.28\"/>\n</g>\n<!-- top_level_op_prim:&#45;&gt;89 -->\n<g id=\"edge30\" class=\"edge\">\n<title>top_level_op_prim::Constant_16&#45;&gt;89</title>\n<path fill=\"none\" stroke=\"black\" d=\"M735.09,-256.08C764.07,-246.45 801.88,-232.35 833.33,-215.48 835.58,-214.27 837.86,-212.94 840.11,-211.54\"/>\n<polygon fill=\"black\" stroke=\"black\" points=\"842.21,-214.34 848.61,-205.89 838.34,-208.51 842.21,-214.34\"/>\n</g>\n<!-- top_level_op_prim:&#45;&gt;90 -->\n<g id=\"edge31\" class=\"edge\">\n<title>top_level_op_prim::Constant_17&#45;&gt;90</title>\n<path fill=\"none\" stroke=\"black\" d=\"M746.09,-258.18C800.15,-246.49 877.31,-228.5 905.33,-215.48 907.65,-214.4 909.97,-213.17 912.26,-211.83\"/>\n<polygon fill=\"black\" stroke=\"black\" points=\"914.3,-214.68 920.83,-206.34 910.52,-208.79 914.3,-214.68\"/>\n</g>\n<!-- top_level_op_prim:&#45;&gt;91 -->\n<g id=\"edge41\" class=\"edge\">\n<title>top_level_op_prim::Constant_21&#45;&gt;91</title>\n<path fill=\"none\" stroke=\"black\" d=\"M745.94,-258.14C757,-255.88 768.52,-253.57 779.33,-251.48 867.14,-234.47 895,-250.43 977.33,-215.48 979.68,-214.48 982.03,-213.3 984.34,-212.01\"/>\n<polygon fill=\"black\" stroke=\"black\" points=\"986.34,-214.89 992.95,-206.6 982.62,-208.96 986.34,-214.89\"/>\n</g>\n<!-- top_level_op_prim:&#45;&gt;92 -->\n<g id=\"edge42\" class=\"edge\">\n<title>top_level_op_prim::Constant_22&#45;&gt;92</title>\n<path fill=\"none\" stroke=\"black\" d=\"M744.9,-257.92C756.26,-255.63 768.16,-253.37 779.33,-251.48 898.69,-231.28 936.8,-260.14 1049.33,-215.48 1051.7,-214.54 1054.07,-213.4 1056.39,-212.14\"/>\n<polygon fill=\"black\" stroke=\"black\" points=\"1058.37,-215.03 1065.02,-206.79 1054.68,-209.08 1058.37,-215.03\"/>\n</g>\n<!-- top_level_op_prim:&#45;&gt;93 -->\n<g id=\"edge48\" class=\"edge\">\n<title>top_level_op_prim::Constant_24&#45;&gt;93</title>\n<path fill=\"none\" stroke=\"black\" d=\"M744.38,-257.77C755.89,-255.47 767.98,-253.24 779.33,-251.48 930.36,-228.07 978.5,-269.89 1121.33,-215.48 1123.72,-214.57 1126.09,-213.46 1128.42,-212.22\"/>\n<polygon fill=\"black\" stroke=\"black\" points=\"1130.38,-215.12 1137.07,-206.91 1126.71,-209.16 1130.38,-215.12\"/>\n</g>\n<!-- top_level_op_prim:&#45;&gt;76 -->\n<g id=\"edge49\" class=\"edge\">\n<title>top_level_op_prim::Constant_25&#45;&gt;76</title>\n<path fill=\"none\" stroke=\"black\" d=\"M743.88,-257.71C755.53,-255.39 767.8,-253.16 779.33,-251.48 962.09,-224.84 1020.14,-279.66 1193.33,-215.48 1195.73,-214.59 1198.11,-213.5 1200.44,-212.26\"/>\n<polygon fill=\"black\" stroke=\"black\" points=\"1202.38,-215.18 1209.1,-206.98 1198.74,-209.2 1202.38,-215.18\"/>\n</g>\n<!-- top_level_op_aten:&#45;&gt;logits -->\n<g id=\"edge47\" class=\"edge\">\n<title>top_level_op_aten::addmm_23&#45;&gt;logits</title>\n<path fill=\"none\" stroke=\"black\" d=\"M576.34,-104.4C492.74,-100.11 356.37,-87.99 244.33,-53.74 242.17,-53.08 240,-52.34 237.83,-51.54\"/>\n<polygon fill=\"black\" stroke=\"black\" points=\"239.02,-48.24 228.44,-47.67 236.35,-54.71 239.02,-48.24\"/>\n</g>\n<!-- top_level_op_aten:&#45;&gt;77 -->\n<g id=\"edge53\" class=\"edge\">\n<title>top_level_op_aten::softmax_26&#45;&gt;77</title>\n<path fill=\"none\" stroke=\"black\" d=\"M731.45,-107.27C833.48,-106.03 1016.7,-97.14 1166.33,-53.74 1170.19,-52.62 1174.12,-51.22 1177.99,-49.65\"/>\n<polygon fill=\"black\" stroke=\"black\" points=\"1179.7,-52.72 1187.44,-45.49 1176.87,-46.32 1179.7,-52.72\"/>\n</g>\n<!-- top_level_op_aten:&#45;&gt;input.2 -->\n<g id=\"edge7\" class=\"edge\">\n<title>top_level_op_aten::addmm_3&#45;&gt;input.2</title>\n<path fill=\"none\" stroke=\"black\" d=\"M583.42,-99.6C522.53,-91.88 432.62,-77.39 357.33,-53.74 354.74,-52.93 352.12,-52.03 349.5,-51.07\"/>\n<polygon fill=\"black\" stroke=\"black\" points=\"350.69,-47.78 340.11,-47.36 348.12,-54.29 350.69,-47.78\"/>\n</g>\n<!-- top_level_op_aten:&#45;&gt;out.1 -->\n<g id=\"edge17\" class=\"edge\">\n<title>top_level_op_aten::batch_norm_8&#45;&gt;out.1</title>\n<path fill=\"none\" stroke=\"black\" d=\"M599.97,-94.5C562.95,-84.66 513.02,-69.85 470.33,-53.74 467.97,-52.85 465.57,-51.91 463.16,-50.93\"/>\n<polygon fill=\"black\" stroke=\"black\" points=\"464.5,-47.7 453.92,-47.04 461.78,-54.15 464.5,-47.7\"/>\n</g>\n<!-- top_level_op_aten:&#45;&gt;input.3 -->\n<g id=\"edge19\" class=\"edge\">\n<title>top_level_op_aten::relu_9&#45;&gt;input.3</title>\n<path fill=\"none\" stroke=\"black\" d=\"M624.2,-90.97C607.88,-80.86 587.52,-67.47 570.36,-55.62\"/>\n<polygon fill=\"black\" stroke=\"black\" points=\"571.92,-52.44 561.71,-49.59 567.92,-58.18 571.92,-52.44\"/>\n</g>\n<!-- top_level_op_aten:&#45;&gt;61 -->\n<g id=\"edge20\" class=\"edge\">\n<title>top_level_op_aten::t_10&#45;&gt;61</title>\n<path fill=\"none\" stroke=\"black\" d=\"M647.65,-89.63C646.82,-81.99 646.47,-72.69 646.6,-63.64\"/>\n<polygon fill=\"black\" stroke=\"black\" points=\"650.1,-63.76 646.95,-53.65 643.1,-63.52 650.1,-63.76\"/>\n</g>\n<!-- top_level_op_aten:&#45;&gt;input.4 -->\n<g id=\"edge27\" class=\"edge\">\n<title>top_level_op_aten::addmm_13&#45;&gt;input.4</title>\n<path fill=\"none\" stroke=\"black\" d=\"M672.45,-90.21C687.84,-79.08 709.83,-64.24 729.22,-51.82\"/>\n<polygon fill=\"black\" stroke=\"black\" points=\"731.34,-54.62 737.92,-46.31 727.6,-48.71 731.34,-54.62\"/>\n</g>\n<!-- top_level_op_aten:&#45;&gt;out -->\n<g id=\"edge37\" class=\"edge\">\n<title>top_level_op_aten::batch_norm_18&#45;&gt;out</title>\n<path fill=\"none\" stroke=\"black\" d=\"M697.67,-92.82C731.21,-83.02 778,-68.96 818.33,-53.74 824.13,-51.55 830.18,-49.05 836.18,-46.49\"/>\n<polygon fill=\"black\" stroke=\"black\" points=\"837.73,-49.63 845.52,-42.44 834.95,-43.2 837.73,-49.63\"/>\n</g>\n<!-- top_level_op_aten:&#45;&gt;input -->\n<g id=\"edge39\" class=\"edge\">\n<title>top_level_op_aten::relu_19&#45;&gt;input</title>\n<path fill=\"none\" stroke=\"black\" d=\"M719.46,-98.2C776.47,-90.17 860.39,-76.02 931.33,-53.74 937.31,-51.86 943.5,-49.51 949.59,-47\"/>\n<polygon fill=\"black\" stroke=\"black\" points=\"951.23,-50.11 959.05,-42.97 948.48,-43.67 951.23,-50.11\"/>\n</g>\n<!-- top_level_op_aten:&#45;&gt;71 -->\n<g id=\"edge40\" class=\"edge\">\n<title>top_level_op_aten::t_20&#45;&gt;71</title>\n<path fill=\"none\" stroke=\"black\" d=\"M728.75,-102.91C808.47,-97.46 937.08,-84.45 1044.33,-53.74 1050.43,-51.99 1056.71,-49.7 1062.89,-47.19\"/>\n<polygon fill=\"black\" stroke=\"black\" points=\"1064.61,-50.26 1072.45,-43.13 1061.88,-43.82 1064.61,-50.26\"/>\n</g>\n</g>\n</svg>\n"
     },
     "metadata": {},
     "execution_count": 6
    }
   ],
   "source": [
    "import tensorwatch as tw\n",
    "tw.draw_model(model, [64, 784])"
   ]
  },
  {
   "cell_type": "code",
   "execution_count": 7,
   "metadata": {
    "tags": []
   },
   "outputs": [
    {
     "output_type": "stream",
     "name": "stdout",
     "text": "Epoch: 001/010 | Batch 000/938 | Cost: 2.5287\nEpoch: 001/010 | Batch 050/938 | Cost: 0.5931\nEpoch: 001/010 | Batch 100/938 | Cost: 0.4121\nEpoch: 001/010 | Batch 150/938 | Cost: 0.1959\nEpoch: 001/010 | Batch 200/938 | Cost: 0.1790\nEpoch: 001/010 | Batch 250/938 | Cost: 0.3487\nEpoch: 001/010 | Batch 300/938 | Cost: 0.2573\nEpoch: 001/010 | Batch 350/938 | Cost: 0.1713\nEpoch: 001/010 | Batch 400/938 | Cost: 0.4234\nEpoch: 001/010 | Batch 450/938 | Cost: 0.2895\nEpoch: 001/010 | Batch 500/938 | Cost: 0.1368\nEpoch: 001/010 | Batch 550/938 | Cost: 0.1475\nEpoch: 001/010 | Batch 600/938 | Cost: 0.2931\nEpoch: 001/010 | Batch 650/938 | Cost: 0.2278\nEpoch: 001/010 | Batch 700/938 | Cost: 0.1608\nEpoch: 001/010 | Batch 750/938 | Cost: 0.1824\nEpoch: 001/010 | Batch 800/938 | Cost: 0.1591\nEpoch: 001/010 | Batch 850/938 | Cost: 0.1636\nEpoch: 001/010 | Batch 900/938 | Cost: 0.1148\nEpoch: 001/010 training accuracy: 96.46%\nTime elapsed: 0.36 min\nEpoch: 002/010 | Batch 000/938 | Cost: 0.1325\nEpoch: 002/010 | Batch 050/938 | Cost: 0.1201\nEpoch: 002/010 | Batch 100/938 | Cost: 0.1152\nEpoch: 002/010 | Batch 150/938 | Cost: 0.0988\nEpoch: 002/010 | Batch 200/938 | Cost: 0.2302\nEpoch: 002/010 | Batch 250/938 | Cost: 0.0903\nEpoch: 002/010 | Batch 300/938 | Cost: 0.0763\nEpoch: 002/010 | Batch 350/938 | Cost: 0.0525\nEpoch: 002/010 | Batch 400/938 | Cost: 0.2130\nEpoch: 002/010 | Batch 450/938 | Cost: 0.2658\nEpoch: 002/010 | Batch 500/938 | Cost: 0.1670\nEpoch: 002/010 | Batch 550/938 | Cost: 0.1265\nEpoch: 002/010 | Batch 600/938 | Cost: 0.0395\nEpoch: 002/010 | Batch 650/938 | Cost: 0.0264\nEpoch: 002/010 | Batch 700/938 | Cost: 0.0647\nEpoch: 002/010 | Batch 750/938 | Cost: 0.2900\nEpoch: 002/010 | Batch 800/938 | Cost: 0.1093\nEpoch: 002/010 | Batch 850/938 | Cost: 0.0607\nEpoch: 002/010 | Batch 900/938 | Cost: 0.0759\nEpoch: 002/010 training accuracy: 97.82%\nTime elapsed: 0.79 min\nEpoch: 003/010 | Batch 000/938 | Cost: 0.0421\nEpoch: 003/010 | Batch 050/938 | Cost: 0.0988\nEpoch: 003/010 | Batch 100/938 | Cost: 0.1522\nEpoch: 003/010 | Batch 150/938 | Cost: 0.0621\nEpoch: 003/010 | Batch 200/938 | Cost: 0.0422\nEpoch: 003/010 | Batch 250/938 | Cost: 0.1047\nEpoch: 003/010 | Batch 300/938 | Cost: 0.1016\nEpoch: 003/010 | Batch 350/938 | Cost: 0.0630\nEpoch: 003/010 | Batch 400/938 | Cost: 0.0278\nEpoch: 003/010 | Batch 450/938 | Cost: 0.2402\nEpoch: 003/010 | Batch 500/938 | Cost: 0.0624\nEpoch: 003/010 | Batch 550/938 | Cost: 0.0781\nEpoch: 003/010 | Batch 600/938 | Cost: 0.1205\nEpoch: 003/010 | Batch 650/938 | Cost: 0.0476\nEpoch: 003/010 | Batch 700/938 | Cost: 0.0901\nEpoch: 003/010 | Batch 750/938 | Cost: 0.1083\nEpoch: 003/010 | Batch 800/938 | Cost: 0.0305\nEpoch: 003/010 | Batch 850/938 | Cost: 0.0669\nEpoch: 003/010 | Batch 900/938 | Cost: 0.0171\nEpoch: 003/010 training accuracy: 98.38%\nTime elapsed: 1.22 min\nEpoch: 004/010 | Batch 000/938 | Cost: 0.0793\nEpoch: 004/010 | Batch 050/938 | Cost: 0.0935\nEpoch: 004/010 | Batch 100/938 | Cost: 0.0964\nEpoch: 004/010 | Batch 150/938 | Cost: 0.0799\nEpoch: 004/010 | Batch 200/938 | Cost: 0.0718\nEpoch: 004/010 | Batch 250/938 | Cost: 0.0637\nEpoch: 004/010 | Batch 300/938 | Cost: 0.0252\nEpoch: 004/010 | Batch 350/938 | Cost: 0.0299\nEpoch: 004/010 | Batch 400/938 | Cost: 0.0737\nEpoch: 004/010 | Batch 450/938 | Cost: 0.0399\nEpoch: 004/010 | Batch 500/938 | Cost: 0.1319\nEpoch: 004/010 | Batch 550/938 | Cost: 0.1429\nEpoch: 004/010 | Batch 600/938 | Cost: 0.0701\nEpoch: 004/010 | Batch 650/938 | Cost: 0.0473\nEpoch: 004/010 | Batch 700/938 | Cost: 0.0321\nEpoch: 004/010 | Batch 750/938 | Cost: 0.0662\nEpoch: 004/010 | Batch 800/938 | Cost: 0.0536\nEpoch: 004/010 | Batch 850/938 | Cost: 0.0426\nEpoch: 004/010 | Batch 900/938 | Cost: 0.0754\nEpoch: 004/010 training accuracy: 98.81%\nTime elapsed: 1.67 min\nEpoch: 005/010 | Batch 000/938 | Cost: 0.0949\nEpoch: 005/010 | Batch 050/938 | Cost: 0.0340\nEpoch: 005/010 | Batch 100/938 | Cost: 0.1835\nEpoch: 005/010 | Batch 150/938 | Cost: 0.0672\nEpoch: 005/010 | Batch 200/938 | Cost: 0.0842\nEpoch: 005/010 | Batch 250/938 | Cost: 0.0564\nEpoch: 005/010 | Batch 300/938 | Cost: 0.0289\nEpoch: 005/010 | Batch 350/938 | Cost: 0.0443\nEpoch: 005/010 | Batch 400/938 | Cost: 0.0274\nEpoch: 005/010 | Batch 450/938 | Cost: 0.0199\nEpoch: 005/010 | Batch 500/938 | Cost: 0.1123\nEpoch: 005/010 | Batch 550/938 | Cost: 0.0666\nEpoch: 005/010 | Batch 600/938 | Cost: 0.1205\nEpoch: 005/010 | Batch 650/938 | Cost: 0.0855\nEpoch: 005/010 | Batch 700/938 | Cost: 0.0304\nEpoch: 005/010 | Batch 750/938 | Cost: 0.0622\nEpoch: 005/010 | Batch 800/938 | Cost: 0.0481\nEpoch: 005/010 | Batch 850/938 | Cost: 0.0302\nEpoch: 005/010 | Batch 900/938 | Cost: 0.0299\nEpoch: 005/010 training accuracy: 99.18%\nTime elapsed: 2.09 min\nEpoch: 006/010 | Batch 000/938 | Cost: 0.0313\nEpoch: 006/010 | Batch 050/938 | Cost: 0.0303\nEpoch: 006/010 | Batch 100/938 | Cost: 0.0247\nEpoch: 006/010 | Batch 150/938 | Cost: 0.1004\nEpoch: 006/010 | Batch 200/938 | Cost: 0.0114\nEpoch: 006/010 | Batch 250/938 | Cost: 0.0503\nEpoch: 006/010 | Batch 300/938 | Cost: 0.0137\nEpoch: 006/010 | Batch 350/938 | Cost: 0.0289\nEpoch: 006/010 | Batch 400/938 | Cost: 0.0130\nEpoch: 006/010 | Batch 450/938 | Cost: 0.0809\nEpoch: 006/010 | Batch 500/938 | Cost: 0.0519\nEpoch: 006/010 | Batch 550/938 | Cost: 0.0802\nEpoch: 006/010 | Batch 600/938 | Cost: 0.0338\nEpoch: 006/010 | Batch 650/938 | Cost: 0.0299\nEpoch: 006/010 | Batch 700/938 | Cost: 0.1226\nEpoch: 006/010 | Batch 750/938 | Cost: 0.0190\nEpoch: 006/010 | Batch 800/938 | Cost: 0.0272\nEpoch: 006/010 | Batch 850/938 | Cost: 0.0496\nEpoch: 006/010 | Batch 900/938 | Cost: 0.0273\nEpoch: 006/010 training accuracy: 99.35%\nTime elapsed: 2.49 min\nEpoch: 007/010 | Batch 000/938 | Cost: 0.0080\nEpoch: 007/010 | Batch 050/938 | Cost: 0.0397\nEpoch: 007/010 | Batch 100/938 | Cost: 0.0303\nEpoch: 007/010 | Batch 150/938 | Cost: 0.1522\nEpoch: 007/010 | Batch 200/938 | Cost: 0.0228\nEpoch: 007/010 | Batch 250/938 | Cost: 0.0669\nEpoch: 007/010 | Batch 300/938 | Cost: 0.0583\nEpoch: 007/010 | Batch 350/938 | Cost: 0.0327\nEpoch: 007/010 | Batch 400/938 | Cost: 0.0701\nEpoch: 007/010 | Batch 450/938 | Cost: 0.0832\nEpoch: 007/010 | Batch 500/938 | Cost: 0.0182\nEpoch: 007/010 | Batch 550/938 | Cost: 0.0484\nEpoch: 007/010 | Batch 600/938 | Cost: 0.0701\nEpoch: 007/010 | Batch 650/938 | Cost: 0.0300\nEpoch: 007/010 | Batch 700/938 | Cost: 0.1126\nEpoch: 007/010 | Batch 750/938 | Cost: 0.0204\nEpoch: 007/010 | Batch 800/938 | Cost: 0.0312\nEpoch: 007/010 | Batch 850/938 | Cost: 0.0215\nEpoch: 007/010 | Batch 900/938 | Cost: 0.0296\nEpoch: 007/010 training accuracy: 99.61%\nTime elapsed: 2.87 min\nEpoch: 008/010 | Batch 000/938 | Cost: 0.0455\nEpoch: 008/010 | Batch 050/938 | Cost: 0.0301\nEpoch: 008/010 | Batch 100/938 | Cost: 0.0219\nEpoch: 008/010 | Batch 150/938 | Cost: 0.0687\nEpoch: 008/010 | Batch 200/938 | Cost: 0.0085\nEpoch: 008/010 | Batch 250/938 | Cost: 0.0365\nEpoch: 008/010 | Batch 300/938 | Cost: 0.0589\nEpoch: 008/010 | Batch 350/938 | Cost: 0.0216\nEpoch: 008/010 | Batch 400/938 | Cost: 0.0446\nEpoch: 008/010 | Batch 450/938 | Cost: 0.0172\nEpoch: 008/010 | Batch 500/938 | Cost: 0.0243\nEpoch: 008/010 | Batch 550/938 | Cost: 0.0716\nEpoch: 008/010 | Batch 600/938 | Cost: 0.0276\nEpoch: 008/010 | Batch 650/938 | Cost: 0.0373\nEpoch: 008/010 | Batch 700/938 | Cost: 0.0464\nEpoch: 008/010 | Batch 750/938 | Cost: 0.0185\nEpoch: 008/010 | Batch 800/938 | Cost: 0.0502\nEpoch: 008/010 | Batch 850/938 | Cost: 0.0422\nEpoch: 008/010 | Batch 900/938 | Cost: 0.0178\nEpoch: 008/010 training accuracy: 99.72%\nTime elapsed: 3.27 min\nEpoch: 009/010 | Batch 000/938 | Cost: 0.0152\nEpoch: 009/010 | Batch 050/938 | Cost: 0.0171\nEpoch: 009/010 | Batch 100/938 | Cost: 0.0899\nEpoch: 009/010 | Batch 150/938 | Cost: 0.0116\nEpoch: 009/010 | Batch 200/938 | Cost: 0.0042\nEpoch: 009/010 | Batch 250/938 | Cost: 0.0152\nEpoch: 009/010 | Batch 300/938 | Cost: 0.0273\nEpoch: 009/010 | Batch 350/938 | Cost: 0.0416\nEpoch: 009/010 | Batch 400/938 | Cost: 0.0062\nEpoch: 009/010 | Batch 450/938 | Cost: 0.0391\nEpoch: 009/010 | Batch 500/938 | Cost: 0.0039\nEpoch: 009/010 | Batch 550/938 | Cost: 0.0905\nEpoch: 009/010 | Batch 600/938 | Cost: 0.0495\nEpoch: 009/010 | Batch 650/938 | Cost: 0.0341\nEpoch: 009/010 | Batch 700/938 | Cost: 0.0136\nEpoch: 009/010 | Batch 750/938 | Cost: 0.0443\nEpoch: 009/010 | Batch 800/938 | Cost: 0.0104\nEpoch: 009/010 | Batch 850/938 | Cost: 0.0590\nEpoch: 009/010 | Batch 900/938 | Cost: 0.0320\nEpoch: 009/010 training accuracy: 99.72%\nTime elapsed: 3.67 min\nEpoch: 010/010 | Batch 000/938 | Cost: 0.0045\nEpoch: 010/010 | Batch 050/938 | Cost: 0.0095\nEpoch: 010/010 | Batch 100/938 | Cost: 0.0506\nEpoch: 010/010 | Batch 150/938 | Cost: 0.0211\nEpoch: 010/010 | Batch 200/938 | Cost: 0.0084\nEpoch: 010/010 | Batch 250/938 | Cost: 0.0641\nEpoch: 010/010 | Batch 300/938 | Cost: 0.0394\nEpoch: 010/010 | Batch 350/938 | Cost: 0.0284\nEpoch: 010/010 | Batch 400/938 | Cost: 0.0141\nEpoch: 010/010 | Batch 450/938 | Cost: 0.0374\nEpoch: 010/010 | Batch 500/938 | Cost: 0.0048\nEpoch: 010/010 | Batch 550/938 | Cost: 0.0764\nEpoch: 010/010 | Batch 600/938 | Cost: 0.0150\nEpoch: 010/010 | Batch 650/938 | Cost: 0.0129\nEpoch: 010/010 | Batch 700/938 | Cost: 0.0165\nEpoch: 010/010 | Batch 750/938 | Cost: 0.0192\nEpoch: 010/010 | Batch 800/938 | Cost: 0.0197\nEpoch: 010/010 | Batch 850/938 | Cost: 0.0086\nEpoch: 010/010 | Batch 900/938 | Cost: 0.0196\nEpoch: 010/010 training accuracy: 99.84%\nTime elapsed: 4.10 min\nTotal Training Time: 4.10 min\n"
    }
   ],
   "source": [
    "def compute_accuracy(net, data_loader):\n",
    "    net.eval()\n",
    "    correct_pred, num_examples = 0, 0\n",
    "    with torch.no_grad():\n",
    "        for features, targets in data_loader:\n",
    "            features = features.view(-1, 28*28).to(device)\n",
    "            targets = targets.to(device)\n",
    "            logits, probas = net(features)\n",
    "            _, predicted_labels = torch.max(probas, 1)\n",
    "            num_examples += targets.size(0)\n",
    "            correct_pred += (predicted_labels == targets).sum()\n",
    "        return correct_pred.float()/num_examples * 100\n",
    "\n",
    "    \n",
    "start_time = time.time()\n",
    "for epoch in range(num_epochs):\n",
    "    model.train()\n",
    "    for batch_idx, (features, targets) in enumerate(train_loader):\n",
    "        \n",
    "        features = features.view(-1, 28*28).to(device)\n",
    "        targets = targets.to(device)\n",
    "\n",
    "        ### FORWARD AND BACK PROP\n",
    "        logits, probas = model(features)\n",
    "        cost = F.cross_entropy(logits, targets)\n",
    "        optimizer.zero_grad()\n",
    "        \n",
    "        cost.backward()\n",
    "        \n",
    "        ### UPDATE MODEL PARAMETERS\n",
    "        optimizer.step()\n",
    "        \n",
    "        ### LOGGING\n",
    "        if not batch_idx % 50:\n",
    "            print ('Epoch: %03d/%03d | Batch %03d/%03d | Cost: %.4f' \n",
    "                   %(epoch+1, num_epochs, batch_idx, \n",
    "                     len(train_loader), cost))\n",
    "\n",
    "    print('Epoch: %03d/%03d training accuracy: %.2f%%' % (\n",
    "          epoch+1, num_epochs, \n",
    "          compute_accuracy(model, train_loader)))\n",
    "\n",
    "    print('Time elapsed: %.2f min' % ((time.time() - start_time)/60))\n",
    "    \n",
    "print('Total Training Time: %.2f min' % ((time.time() - start_time)/60))"
   ]
  },
  {
   "cell_type": "code",
   "execution_count": 8,
   "metadata": {
    "tags": []
   },
   "outputs": [
    {
     "output_type": "stream",
     "name": "stdout",
     "text": "Test accuracy: 97.88%\n"
    }
   ],
   "source": [
    "print('Test accuracy: %.2f%%' % (compute_accuracy(model, test_loader)))"
   ]
  },
  {
   "cell_type": "code",
   "execution_count": 9,
   "metadata": {
    "tags": []
   },
   "outputs": [
    {
     "output_type": "stream",
     "name": "stdout",
     "text": "numpy 1.19.0\ntorch 1.5.1\n\n"
    }
   ],
   "source": [
    "%watermark -iv"
   ]
  }
 ],
 "metadata": {
  "kernelspec": {
   "display_name": "Python 3.7.3 64-bit ('.venv': venv)",
   "language": "python",
   "name": "python37364bitvenvvenv7b03464ca52642a09f5ea3f892125398"
  },
  "language_info": {
   "codemirror_mode": {
    "name": "ipython",
    "version": 3
   },
   "file_extension": ".py",
   "mimetype": "text/x-python",
   "name": "python",
   "nbconvert_exporter": "python",
   "pygments_lexer": "ipython3",
   "version": "3.7.3-final"
  },
  "toc": {
   "nav_menu": {},
   "number_sections": true,
   "sideBar": true,
   "skip_h1_title": false,
   "title_cell": "Table of Contents",
   "title_sidebar": "Contents",
   "toc_cell": false,
   "toc_position": {},
   "toc_section_display": true,
   "toc_window_display": false
  }
 },
 "nbformat": 4,
 "nbformat_minor": 2
}